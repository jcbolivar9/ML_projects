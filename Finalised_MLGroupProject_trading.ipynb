{
  "nbformat": 4,
  "nbformat_minor": 0,
  "metadata": {
    "colab": {
      "provenance": []
    },
    "kernelspec": {
      "name": "python3",
      "display_name": "Python 3"
    },
    "language_info": {
      "name": "python"
    }
  },
  "cells": [
    {
      "cell_type": "code",
      "execution_count": null,
      "metadata": {
        "id": "X-eNv8c_ie-V",
        "colab": {
          "base_uri": "https://localhost:8080/"
        },
        "outputId": "7c1364e4-3f62-4e41-f4b2-c42d99e44548"
      },
      "outputs": [
        {
          "output_type": "stream",
          "name": "stderr",
          "text": [
            "[*********************100%%**********************]  1 of 1 completed\n",
            "[*********************100%%**********************]  1 of 1 completed\n",
            "[*********************100%%**********************]  1 of 1 completed\n",
            "[*********************100%%**********************]  1 of 1 completed\n",
            "[*********************100%%**********************]  1 of 1 completed\n",
            "[*********************100%%**********************]  1 of 1 completed\n"
          ]
        }
      ],
      "source": [
        "#code to get data for Bitcoin, S&P 500, S&P400, Russell 2000 and VIX,  daily data from dates of Jan 2023 to Feb 2024 from yahoo finance and store in individual data frames\n",
        "\n",
        "import pandas as pd\n",
        "import yfinance as yf\n",
        "import numpy as np\n",
        "\n",
        "# Define the tickers and date range\n",
        "tickers = ['BTC-USD', '^GSPC', '^MID', '^RUT', '^VIX','^SPGSCI']\n",
        "start_date = '2023-01-01'\n",
        "end_date = '2024-02-29'\n",
        "\n",
        "# Download the data for each ticker\n",
        "data = {}\n",
        "for ticker in tickers:\n",
        "    data[ticker] = yf.download(ticker, start=start_date, end=end_date)\n",
        "\n",
        "# Create individual data frames for each ticker\n",
        "bitcoin_df = data['BTC-USD']\n",
        "sp500_df = data['^GSPC']\n",
        "sp400_df = data['^MID']\n",
        "russell2000_df = data['^RUT']\n",
        "vix_df = data['^VIX']\n",
        "spgcci_df=data['^SPGSCI']\n"
      ]
    },
    {
      "cell_type": "code",
      "source": [
        "# Install the TA-Lib C library\n",
        "!wget http://prdownloads.sourceforge.net/ta-lib/ta-lib-0.4.0-src.tar.gz\n",
        "!tar -xzvf ta-lib-0.4.0-src.tar.gz\n",
        "%cd ta-lib\n",
        "!./configure --prefix=/usr\n",
        "!make\n",
        "!make install\n",
        "# Navigate back to the root directory\n",
        "%cd ../\n",
        "# Remove the tar.gz file and extracted folder to clean up\n",
        "!rm -R ta-lib ta-lib-0.4.0-src.tar.gz\n",
        "\n",
        "# Install the TA-Lib Python wrapper\n",
        "!pip install TA-Lib\n"
      ],
      "metadata": {
        "id": "jysMsJlTE4Cs"
      },
      "execution_count": null,
      "outputs": []
    },
    {
      "cell_type": "code",
      "source": [],
      "metadata": {
        "id": "sgS-3GnPQqI6"
      },
      "execution_count": null,
      "outputs": []
    },
    {
      "cell_type": "code",
      "source": [
        "bitcoin_df.head()"
      ],
      "metadata": {
        "id": "khJ3fgXevRw-",
        "colab": {
          "base_uri": "https://localhost:8080/",
          "height": 235
        },
        "outputId": "a8327ee1-ad3e-4ac5-ab17-70d951c2bce6"
      },
      "execution_count": null,
      "outputs": [
        {
          "output_type": "execute_result",
          "data": {
            "text/plain": [
              "                    Open          High           Low         Close  \\\n",
              "Date                                                                 \n",
              "2023-01-01  16547.914062  16630.439453  16521.234375  16625.080078   \n",
              "2023-01-02  16625.509766  16759.343750  16572.228516  16688.470703   \n",
              "2023-01-03  16688.847656  16760.447266  16622.371094  16679.857422   \n",
              "2023-01-04  16680.205078  16964.585938  16667.763672  16863.238281   \n",
              "2023-01-05  16863.472656  16884.021484  16790.283203  16836.736328   \n",
              "\n",
              "               Adj Close       Volume  \n",
              "Date                                   \n",
              "2023-01-01  16625.080078   9244361700  \n",
              "2023-01-02  16688.470703  12097775227  \n",
              "2023-01-03  16679.857422  13903079207  \n",
              "2023-01-04  16863.238281  18421743322  \n",
              "2023-01-05  16836.736328  13692758566  "
            ],
            "text/html": [
              "\n",
              "  <div id=\"df-5e6d5119-00ed-473d-a5d5-61f28100ff0b\" class=\"colab-df-container\">\n",
              "    <div>\n",
              "<style scoped>\n",
              "    .dataframe tbody tr th:only-of-type {\n",
              "        vertical-align: middle;\n",
              "    }\n",
              "\n",
              "    .dataframe tbody tr th {\n",
              "        vertical-align: top;\n",
              "    }\n",
              "\n",
              "    .dataframe thead th {\n",
              "        text-align: right;\n",
              "    }\n",
              "</style>\n",
              "<table border=\"1\" class=\"dataframe\">\n",
              "  <thead>\n",
              "    <tr style=\"text-align: right;\">\n",
              "      <th></th>\n",
              "      <th>Open</th>\n",
              "      <th>High</th>\n",
              "      <th>Low</th>\n",
              "      <th>Close</th>\n",
              "      <th>Adj Close</th>\n",
              "      <th>Volume</th>\n",
              "    </tr>\n",
              "    <tr>\n",
              "      <th>Date</th>\n",
              "      <th></th>\n",
              "      <th></th>\n",
              "      <th></th>\n",
              "      <th></th>\n",
              "      <th></th>\n",
              "      <th></th>\n",
              "    </tr>\n",
              "  </thead>\n",
              "  <tbody>\n",
              "    <tr>\n",
              "      <th>2023-01-01</th>\n",
              "      <td>16547.914062</td>\n",
              "      <td>16630.439453</td>\n",
              "      <td>16521.234375</td>\n",
              "      <td>16625.080078</td>\n",
              "      <td>16625.080078</td>\n",
              "      <td>9244361700</td>\n",
              "    </tr>\n",
              "    <tr>\n",
              "      <th>2023-01-02</th>\n",
              "      <td>16625.509766</td>\n",
              "      <td>16759.343750</td>\n",
              "      <td>16572.228516</td>\n",
              "      <td>16688.470703</td>\n",
              "      <td>16688.470703</td>\n",
              "      <td>12097775227</td>\n",
              "    </tr>\n",
              "    <tr>\n",
              "      <th>2023-01-03</th>\n",
              "      <td>16688.847656</td>\n",
              "      <td>16760.447266</td>\n",
              "      <td>16622.371094</td>\n",
              "      <td>16679.857422</td>\n",
              "      <td>16679.857422</td>\n",
              "      <td>13903079207</td>\n",
              "    </tr>\n",
              "    <tr>\n",
              "      <th>2023-01-04</th>\n",
              "      <td>16680.205078</td>\n",
              "      <td>16964.585938</td>\n",
              "      <td>16667.763672</td>\n",
              "      <td>16863.238281</td>\n",
              "      <td>16863.238281</td>\n",
              "      <td>18421743322</td>\n",
              "    </tr>\n",
              "    <tr>\n",
              "      <th>2023-01-05</th>\n",
              "      <td>16863.472656</td>\n",
              "      <td>16884.021484</td>\n",
              "      <td>16790.283203</td>\n",
              "      <td>16836.736328</td>\n",
              "      <td>16836.736328</td>\n",
              "      <td>13692758566</td>\n",
              "    </tr>\n",
              "  </tbody>\n",
              "</table>\n",
              "</div>\n",
              "    <div class=\"colab-df-buttons\">\n",
              "\n",
              "  <div class=\"colab-df-container\">\n",
              "    <button class=\"colab-df-convert\" onclick=\"convertToInteractive('df-5e6d5119-00ed-473d-a5d5-61f28100ff0b')\"\n",
              "            title=\"Convert this dataframe to an interactive table.\"\n",
              "            style=\"display:none;\">\n",
              "\n",
              "  <svg xmlns=\"http://www.w3.org/2000/svg\" height=\"24px\" viewBox=\"0 -960 960 960\">\n",
              "    <path d=\"M120-120v-720h720v720H120Zm60-500h600v-160H180v160Zm220 220h160v-160H400v160Zm0 220h160v-160H400v160ZM180-400h160v-160H180v160Zm440 0h160v-160H620v160ZM180-180h160v-160H180v160Zm440 0h160v-160H620v160Z\"/>\n",
              "  </svg>\n",
              "    </button>\n",
              "\n",
              "  <style>\n",
              "    .colab-df-container {\n",
              "      display:flex;\n",
              "      gap: 12px;\n",
              "    }\n",
              "\n",
              "    .colab-df-convert {\n",
              "      background-color: #E8F0FE;\n",
              "      border: none;\n",
              "      border-radius: 50%;\n",
              "      cursor: pointer;\n",
              "      display: none;\n",
              "      fill: #1967D2;\n",
              "      height: 32px;\n",
              "      padding: 0 0 0 0;\n",
              "      width: 32px;\n",
              "    }\n",
              "\n",
              "    .colab-df-convert:hover {\n",
              "      background-color: #E2EBFA;\n",
              "      box-shadow: 0px 1px 2px rgba(60, 64, 67, 0.3), 0px 1px 3px 1px rgba(60, 64, 67, 0.15);\n",
              "      fill: #174EA6;\n",
              "    }\n",
              "\n",
              "    .colab-df-buttons div {\n",
              "      margin-bottom: 4px;\n",
              "    }\n",
              "\n",
              "    [theme=dark] .colab-df-convert {\n",
              "      background-color: #3B4455;\n",
              "      fill: #D2E3FC;\n",
              "    }\n",
              "\n",
              "    [theme=dark] .colab-df-convert:hover {\n",
              "      background-color: #434B5C;\n",
              "      box-shadow: 0px 1px 3px 1px rgba(0, 0, 0, 0.15);\n",
              "      filter: drop-shadow(0px 1px 2px rgba(0, 0, 0, 0.3));\n",
              "      fill: #FFFFFF;\n",
              "    }\n",
              "  </style>\n",
              "\n",
              "    <script>\n",
              "      const buttonEl =\n",
              "        document.querySelector('#df-5e6d5119-00ed-473d-a5d5-61f28100ff0b button.colab-df-convert');\n",
              "      buttonEl.style.display =\n",
              "        google.colab.kernel.accessAllowed ? 'block' : 'none';\n",
              "\n",
              "      async function convertToInteractive(key) {\n",
              "        const element = document.querySelector('#df-5e6d5119-00ed-473d-a5d5-61f28100ff0b');\n",
              "        const dataTable =\n",
              "          await google.colab.kernel.invokeFunction('convertToInteractive',\n",
              "                                                    [key], {});\n",
              "        if (!dataTable) return;\n",
              "\n",
              "        const docLinkHtml = 'Like what you see? Visit the ' +\n",
              "          '<a target=\"_blank\" href=https://colab.research.google.com/notebooks/data_table.ipynb>data table notebook</a>'\n",
              "          + ' to learn more about interactive tables.';\n",
              "        element.innerHTML = '';\n",
              "        dataTable['output_type'] = 'display_data';\n",
              "        await google.colab.output.renderOutput(dataTable, element);\n",
              "        const docLink = document.createElement('div');\n",
              "        docLink.innerHTML = docLinkHtml;\n",
              "        element.appendChild(docLink);\n",
              "      }\n",
              "    </script>\n",
              "  </div>\n",
              "\n",
              "\n",
              "<div id=\"df-62a20019-f235-4a47-b7d0-ca5f0d070147\">\n",
              "  <button class=\"colab-df-quickchart\" onclick=\"quickchart('df-62a20019-f235-4a47-b7d0-ca5f0d070147')\"\n",
              "            title=\"Suggest charts\"\n",
              "            style=\"display:none;\">\n",
              "\n",
              "<svg xmlns=\"http://www.w3.org/2000/svg\" height=\"24px\"viewBox=\"0 0 24 24\"\n",
              "     width=\"24px\">\n",
              "    <g>\n",
              "        <path d=\"M19 3H5c-1.1 0-2 .9-2 2v14c0 1.1.9 2 2 2h14c1.1 0 2-.9 2-2V5c0-1.1-.9-2-2-2zM9 17H7v-7h2v7zm4 0h-2V7h2v10zm4 0h-2v-4h2v4z\"/>\n",
              "    </g>\n",
              "</svg>\n",
              "  </button>\n",
              "\n",
              "<style>\n",
              "  .colab-df-quickchart {\n",
              "      --bg-color: #E8F0FE;\n",
              "      --fill-color: #1967D2;\n",
              "      --hover-bg-color: #E2EBFA;\n",
              "      --hover-fill-color: #174EA6;\n",
              "      --disabled-fill-color: #AAA;\n",
              "      --disabled-bg-color: #DDD;\n",
              "  }\n",
              "\n",
              "  [theme=dark] .colab-df-quickchart {\n",
              "      --bg-color: #3B4455;\n",
              "      --fill-color: #D2E3FC;\n",
              "      --hover-bg-color: #434B5C;\n",
              "      --hover-fill-color: #FFFFFF;\n",
              "      --disabled-bg-color: #3B4455;\n",
              "      --disabled-fill-color: #666;\n",
              "  }\n",
              "\n",
              "  .colab-df-quickchart {\n",
              "    background-color: var(--bg-color);\n",
              "    border: none;\n",
              "    border-radius: 50%;\n",
              "    cursor: pointer;\n",
              "    display: none;\n",
              "    fill: var(--fill-color);\n",
              "    height: 32px;\n",
              "    padding: 0;\n",
              "    width: 32px;\n",
              "  }\n",
              "\n",
              "  .colab-df-quickchart:hover {\n",
              "    background-color: var(--hover-bg-color);\n",
              "    box-shadow: 0 1px 2px rgba(60, 64, 67, 0.3), 0 1px 3px 1px rgba(60, 64, 67, 0.15);\n",
              "    fill: var(--button-hover-fill-color);\n",
              "  }\n",
              "\n",
              "  .colab-df-quickchart-complete:disabled,\n",
              "  .colab-df-quickchart-complete:disabled:hover {\n",
              "    background-color: var(--disabled-bg-color);\n",
              "    fill: var(--disabled-fill-color);\n",
              "    box-shadow: none;\n",
              "  }\n",
              "\n",
              "  .colab-df-spinner {\n",
              "    border: 2px solid var(--fill-color);\n",
              "    border-color: transparent;\n",
              "    border-bottom-color: var(--fill-color);\n",
              "    animation:\n",
              "      spin 1s steps(1) infinite;\n",
              "  }\n",
              "\n",
              "  @keyframes spin {\n",
              "    0% {\n",
              "      border-color: transparent;\n",
              "      border-bottom-color: var(--fill-color);\n",
              "      border-left-color: var(--fill-color);\n",
              "    }\n",
              "    20% {\n",
              "      border-color: transparent;\n",
              "      border-left-color: var(--fill-color);\n",
              "      border-top-color: var(--fill-color);\n",
              "    }\n",
              "    30% {\n",
              "      border-color: transparent;\n",
              "      border-left-color: var(--fill-color);\n",
              "      border-top-color: var(--fill-color);\n",
              "      border-right-color: var(--fill-color);\n",
              "    }\n",
              "    40% {\n",
              "      border-color: transparent;\n",
              "      border-right-color: var(--fill-color);\n",
              "      border-top-color: var(--fill-color);\n",
              "    }\n",
              "    60% {\n",
              "      border-color: transparent;\n",
              "      border-right-color: var(--fill-color);\n",
              "    }\n",
              "    80% {\n",
              "      border-color: transparent;\n",
              "      border-right-color: var(--fill-color);\n",
              "      border-bottom-color: var(--fill-color);\n",
              "    }\n",
              "    90% {\n",
              "      border-color: transparent;\n",
              "      border-bottom-color: var(--fill-color);\n",
              "    }\n",
              "  }\n",
              "</style>\n",
              "\n",
              "  <script>\n",
              "    async function quickchart(key) {\n",
              "      const quickchartButtonEl =\n",
              "        document.querySelector('#' + key + ' button');\n",
              "      quickchartButtonEl.disabled = true;  // To prevent multiple clicks.\n",
              "      quickchartButtonEl.classList.add('colab-df-spinner');\n",
              "      try {\n",
              "        const charts = await google.colab.kernel.invokeFunction(\n",
              "            'suggestCharts', [key], {});\n",
              "      } catch (error) {\n",
              "        console.error('Error during call to suggestCharts:', error);\n",
              "      }\n",
              "      quickchartButtonEl.classList.remove('colab-df-spinner');\n",
              "      quickchartButtonEl.classList.add('colab-df-quickchart-complete');\n",
              "    }\n",
              "    (() => {\n",
              "      let quickchartButtonEl =\n",
              "        document.querySelector('#df-62a20019-f235-4a47-b7d0-ca5f0d070147 button');\n",
              "      quickchartButtonEl.style.display =\n",
              "        google.colab.kernel.accessAllowed ? 'block' : 'none';\n",
              "    })();\n",
              "  </script>\n",
              "</div>\n",
              "\n",
              "    </div>\n",
              "  </div>\n"
            ],
            "application/vnd.google.colaboratory.intrinsic+json": {
              "type": "dataframe",
              "variable_name": "bitcoin_df",
              "summary": "{\n  \"name\": \"bitcoin_df\",\n  \"rows\": 424,\n  \"fields\": [\n    {\n      \"column\": \"Date\",\n      \"properties\": {\n        \"dtype\": \"date\",\n        \"min\": \"2023-01-01 00:00:00\",\n        \"max\": \"2024-02-28 00:00:00\",\n        \"num_unique_values\": 424,\n        \"samples\": [\n          \"2023-05-26 00:00:00\",\n          \"2023-10-08 00:00:00\",\n          \"2023-06-25 00:00:00\"\n        ],\n        \"semantic_type\": \"\",\n        \"description\": \"\"\n      }\n    },\n    {\n      \"column\": \"Open\",\n      \"properties\": {\n        \"dtype\": \"number\",\n        \"std\": 8171.6484100872585,\n        \"min\": 16547.9140625,\n        \"max\": 57071.09765625,\n        \"num_unique_values\": 424,\n        \"samples\": [\n          26474.181640625,\n          27971.677734375,\n          30545.150390625\n        ],\n        \"semantic_type\": \"\",\n        \"description\": \"\"\n      }\n    },\n    {\n      \"column\": \"High\",\n      \"properties\": {\n        \"dtype\": \"number\",\n        \"std\": 8407.284997208943,\n        \"min\": 16630.439453125,\n        \"max\": 63913.1328125,\n        \"num_unique_values\": 424,\n        \"samples\": [\n          26916.669921875,\n          28102.169921875,\n          31041.271484375\n        ],\n        \"semantic_type\": \"\",\n        \"description\": \"\"\n      }\n    },\n    {\n      \"column\": \"Low\",\n      \"properties\": {\n        \"dtype\": \"number\",\n        \"std\": 8023.073986071239,\n        \"min\": 16521.234375,\n        \"max\": 56738.42578125,\n        \"num_unique_values\": 423,\n        \"samples\": [\n          26343.94921875,\n          27302.5625,\n          30327.943359375\n        ],\n        \"semantic_type\": \"\",\n        \"description\": \"\"\n      }\n    },\n    {\n      \"column\": \"Close\",\n      \"properties\": {\n        \"dtype\": \"number\",\n        \"std\": 8282.30172438147,\n        \"min\": 16625.080078125,\n        \"max\": 62504.7890625,\n        \"num_unique_values\": 424,\n        \"samples\": [\n          26719.291015625,\n          27935.08984375,\n          30480.26171875\n        ],\n        \"semantic_type\": \"\",\n        \"description\": \"\"\n      }\n    },\n    {\n      \"column\": \"Adj Close\",\n      \"properties\": {\n        \"dtype\": \"number\",\n        \"std\": 8282.30172438147,\n        \"min\": 16625.080078125,\n        \"max\": 62504.7890625,\n        \"num_unique_values\": 424,\n        \"samples\": [\n          26719.291015625,\n          27935.08984375,\n          30480.26171875\n        ],\n        \"semantic_type\": \"\",\n        \"description\": \"\"\n      }\n    },\n    {\n      \"column\": \"Volume\",\n      \"properties\": {\n        \"dtype\": \"number\",\n        \"std\": 9687331236,\n        \"min\": 5331172801,\n        \"max\": 83239156760,\n        \"num_unique_values\": 424,\n        \"samples\": [\n          12711619225,\n          7916875290,\n          12703464114\n        ],\n        \"semantic_type\": \"\",\n        \"description\": \"\"\n      }\n    }\n  ]\n}"
            }
          },
          "metadata": {},
          "execution_count": 221
        }
      ]
    },
    {
      "cell_type": "code",
      "source": [
        "bitcoin_df.shape"
      ],
      "metadata": {
        "colab": {
          "base_uri": "https://localhost:8080/"
        },
        "id": "hmHbjDoBv3b9",
        "outputId": "46ed2800-2453-438b-f822-7892f8e8f148"
      },
      "execution_count": null,
      "outputs": [
        {
          "output_type": "execute_result",
          "data": {
            "text/plain": [
              "(424, 6)"
            ]
          },
          "metadata": {},
          "execution_count": 222
        }
      ]
    },
    {
      "cell_type": "code",
      "source": [
        "# Check for missing values\n",
        "print(bitcoin_df.isnull().sum())"
      ],
      "metadata": {
        "id": "eJGHaZghJp59",
        "outputId": "4723a9a3-ea48-4447-9665-63a7d2707e80",
        "colab": {
          "base_uri": "https://localhost:8080/"
        }
      },
      "execution_count": null,
      "outputs": [
        {
          "output_type": "stream",
          "name": "stdout",
          "text": [
            "Open         0\n",
            "High         0\n",
            "Low          0\n",
            "Close        0\n",
            "Adj Close    0\n",
            "Volume       0\n",
            "dtype: int64\n"
          ]
        }
      ]
    },
    {
      "cell_type": "markdown",
      "source": [
        "# Defining X and finding Target variable"
      ],
      "metadata": {
        "id": "BtPNdH_Fsjz3"
      }
    },
    {
      "cell_type": "code",
      "source": [
        "#Calculating the average price in next 5 days\n",
        "bitcoin_df['rolling_avg_next_5'] = bitcoin_df['Close'].rolling(window=5).mean().shift(-4)\n",
        "\n",
        "# Calculating the average return in the next 5 days\n",
        "bitcoin_df['average_return_next_5_days'] = (bitcoin_df['rolling_avg_next_5'] - bitcoin_df['Close']) / bitcoin_df['Close']"
      ],
      "metadata": {
        "id": "DmiU6VKosiV9"
      },
      "execution_count": null,
      "outputs": []
    },
    {
      "cell_type": "markdown",
      "source": [
        "# Calculating moving, exponential averages, volatility in returns for 'N' days and theirs differences to add as features"
      ],
      "metadata": {
        "id": "C2kZYS83yXu6"
      }
    },
    {
      "cell_type": "code",
      "source": [
        "\n",
        "\n",
        "# Calculate daily returns for Bitcoin\n",
        "bitcoin_df['daily_returns'] = bitcoin_df['Close'].pct_change()\n",
        "\n",
        "# Moving Averages of Returns for 3, 9,12,15 and 30 days\n",
        "bitcoin_df['MA_returns_3'] = bitcoin_df['daily_returns'].rolling(window=3).mean()\n",
        "bitcoin_df['MA_returns_9'] = bitcoin_df['daily_returns'].rolling(window=9).mean()\n",
        "bitcoin_df['MA_returns_12'] = bitcoin_df['daily_returns'].rolling(window=12).mean()\n",
        "bitcoin_df['MA_returns_15'] = bitcoin_df['daily_returns'].rolling(window=15).mean()\n",
        "bitcoin_df['MA_returns_30'] = bitcoin_df['daily_returns'].rolling(window=30).mean()\n",
        "\n",
        "# Exponential Moving Averages of Returns for 3, 9, and 12 days\n",
        "bitcoin_df['EWMA_returns_3'] = bitcoin_df['daily_returns'].ewm(span=3).mean()\n",
        "bitcoin_df['EWMA_returns_9'] = bitcoin_df['daily_returns'].ewm(span=9).mean()\n",
        "bitcoin_df['EWMA_returns_12'] = bitcoin_df['daily_returns'].ewm(span=12).mean()\n",
        "bitcoin_df['EWMA_returns_15'] = bitcoin_df['daily_returns'].ewm(span=15).mean()\n",
        "bitcoin_df['EWMA_returns_30'] = bitcoin_df['daily_returns'].ewm(span=30).mean()\n",
        "\n",
        "# Volatility (Standard Deviation) of Returns for 3, 9, and 12 days\n",
        "bitcoin_df['Volatility_returns_3'] = bitcoin_df['daily_returns'].rolling(window=3).std()\n",
        "bitcoin_df['Volatility_returns_9'] = bitcoin_df['daily_returns'].rolling(window=9).std()\n",
        "bitcoin_df['Volatility_returns_12'] = bitcoin_df['daily_returns'].rolling(window=12).std()\n",
        "bitcoin_df['Volatility_returns_15'] = bitcoin_df['daily_returns'].rolling(window=15).std()\n",
        "bitcoin_df['Volatility_returns_30'] = bitcoin_df['daily_returns'].rolling(window=30).std()\n",
        "\n",
        "# Differences between MAs of Returns\n",
        "bitcoin_df[\"MA_diff_9_3\"] = bitcoin_df[\"MA_returns_9\"] - bitcoin_df[\"MA_returns_3\"]\n",
        "bitcoin_df[\"MA_diff_12_9\"] = bitcoin_df[\"MA_returns_12\"] - bitcoin_df[\"MA_returns_9\"]\n",
        "bitcoin_df[\"MA_diff_12_3\"] = bitcoin_df[\"MA_returns_12\"] - bitcoin_df[\"MA_returns_3\"]\n",
        "bitcoin_df[\"MA_diff_15_12\"] = bitcoin_df[\"MA_returns_15\"] - bitcoin_df[\"MA_returns_12\"]\n",
        "bitcoin_df[\"MA_diff_15_30\"] = bitcoin_df[\"MA_returns_30\"] - bitcoin_df[\"MA_returns_15\"]\n",
        "\n",
        "\n",
        "# Differences between EWMAs of Returns\n",
        "bitcoin_df[\"EWMA_diff_9_3\"] = bitcoin_df[\"EWMA_returns_9\"] - bitcoin_df[\"EWMA_returns_3\"]\n",
        "bitcoin_df[\"EWMA_diff_12_9\"] = bitcoin_df[\"EWMA_returns_12\"] - bitcoin_df[\"EWMA_returns_9\"]\n",
        "bitcoin_df[\"EWMA_diff_12_3\"] = bitcoin_df[\"EWMA_returns_12\"] - bitcoin_df[\"EWMA_returns_3\"]\n",
        "bitcoin_df[\"EWMA_diff_15_12\"] = bitcoin_df[\"EWMA_returns_15\"] - bitcoin_df[\"EWMA_returns_12\"]\n",
        "bitcoin_df[\"EWMA_diff_15_30\"] = bitcoin_df[\"EWMA_returns_30\"] - bitcoin_df[\"EWMA_returns_15\"]\n",
        "\n",
        "\n"
      ],
      "metadata": {
        "id": "j-XHeMmXQDxe"
      },
      "execution_count": null,
      "outputs": []
    },
    {
      "cell_type": "code",
      "source": [
        "bitcoin_df.head()"
      ],
      "metadata": {
        "colab": {
          "base_uri": "https://localhost:8080/",
          "height": 369
        },
        "id": "UBN0ddglIMnt",
        "outputId": "4e8beed5-a370-4548-d6ae-3b8585aa53dd"
      },
      "execution_count": null,
      "outputs": [
        {
          "output_type": "execute_result",
          "data": {
            "text/plain": [
              "                    Open          High           Low         Close  \\\n",
              "Date                                                                 \n",
              "2023-01-01  16547.914062  16630.439453  16521.234375  16625.080078   \n",
              "2023-01-02  16625.509766  16759.343750  16572.228516  16688.470703   \n",
              "2023-01-03  16688.847656  16760.447266  16622.371094  16679.857422   \n",
              "2023-01-04  16680.205078  16964.585938  16667.763672  16863.238281   \n",
              "2023-01-05  16863.472656  16884.021484  16790.283203  16836.736328   \n",
              "\n",
              "               Adj Close       Volume  rolling_avg_next_5  \\\n",
              "Date                                                        \n",
              "2023-01-01  16625.080078   9244361700        16738.676563   \n",
              "2023-01-02  16688.470703  12097775227        16804.054297   \n",
              "2023-01-03  16679.857422  13903079207        16857.375781   \n",
              "2023-01-04  16863.238281  18421743322        16939.633203   \n",
              "2023-01-05  16836.736328  13692758566        17006.296484   \n",
              "\n",
              "            average_return_next_5_days  daily_returns  MA_returns_3  ...  \\\n",
              "Date                                                                 ...   \n",
              "2023-01-01                    0.006833            NaN           NaN  ...   \n",
              "2023-01-02                    0.006926       0.003813           NaN  ...   \n",
              "2023-01-03                    0.010643      -0.000516           NaN  ...   \n",
              "2023-01-04                    0.004530       0.010994      0.004764  ...   \n",
              "2023-01-05                    0.010071      -0.001572      0.002969  ...   \n",
              "\n",
              "            MA_diff_9_3  MA_diff_12_9  MA_diff_12_3  MA_diff_15_12  \\\n",
              "Date                                                                 \n",
              "2023-01-01          NaN           NaN           NaN            NaN   \n",
              "2023-01-02          NaN           NaN           NaN            NaN   \n",
              "2023-01-03          NaN           NaN           NaN            NaN   \n",
              "2023-01-04          NaN           NaN           NaN            NaN   \n",
              "2023-01-05          NaN           NaN           NaN            NaN   \n",
              "\n",
              "            MA_diff_15_30  EWMA_diff_9_3  EWMA_diff_12_9  EWMA_diff_12_3  \\\n",
              "Date                                                                       \n",
              "2023-01-01            NaN            NaN             NaN             NaN   \n",
              "2023-01-02            NaN       0.000000        0.000000        0.000000   \n",
              "2023-01-03            NaN       0.000481        0.000060        0.000541   \n",
              "2023-01-04            NaN      -0.001343       -0.000151       -0.001494   \n",
              "2023-01-05            NaN       0.000718        0.000056        0.000774   \n",
              "\n",
              "            EWMA_diff_15_12  EWMA_diff_15_30  \n",
              "Date                                          \n",
              "2023-01-01              NaN              NaN  \n",
              "2023-01-02         0.000000         0.000000  \n",
              "2023-01-03         0.000036         0.000072  \n",
              "2023-01-04        -0.000088        -0.000171  \n",
              "2023-01-05         0.000030         0.000053  \n",
              "\n",
              "[5 rows x 34 columns]"
            ],
            "text/html": [
              "\n",
              "  <div id=\"df-40460013-b413-421d-8bc1-e0d445387fa0\" class=\"colab-df-container\">\n",
              "    <div>\n",
              "<style scoped>\n",
              "    .dataframe tbody tr th:only-of-type {\n",
              "        vertical-align: middle;\n",
              "    }\n",
              "\n",
              "    .dataframe tbody tr th {\n",
              "        vertical-align: top;\n",
              "    }\n",
              "\n",
              "    .dataframe thead th {\n",
              "        text-align: right;\n",
              "    }\n",
              "</style>\n",
              "<table border=\"1\" class=\"dataframe\">\n",
              "  <thead>\n",
              "    <tr style=\"text-align: right;\">\n",
              "      <th></th>\n",
              "      <th>Open</th>\n",
              "      <th>High</th>\n",
              "      <th>Low</th>\n",
              "      <th>Close</th>\n",
              "      <th>Adj Close</th>\n",
              "      <th>Volume</th>\n",
              "      <th>rolling_avg_next_5</th>\n",
              "      <th>average_return_next_5_days</th>\n",
              "      <th>daily_returns</th>\n",
              "      <th>MA_returns_3</th>\n",
              "      <th>...</th>\n",
              "      <th>MA_diff_9_3</th>\n",
              "      <th>MA_diff_12_9</th>\n",
              "      <th>MA_diff_12_3</th>\n",
              "      <th>MA_diff_15_12</th>\n",
              "      <th>MA_diff_15_30</th>\n",
              "      <th>EWMA_diff_9_3</th>\n",
              "      <th>EWMA_diff_12_9</th>\n",
              "      <th>EWMA_diff_12_3</th>\n",
              "      <th>EWMA_diff_15_12</th>\n",
              "      <th>EWMA_diff_15_30</th>\n",
              "    </tr>\n",
              "    <tr>\n",
              "      <th>Date</th>\n",
              "      <th></th>\n",
              "      <th></th>\n",
              "      <th></th>\n",
              "      <th></th>\n",
              "      <th></th>\n",
              "      <th></th>\n",
              "      <th></th>\n",
              "      <th></th>\n",
              "      <th></th>\n",
              "      <th></th>\n",
              "      <th></th>\n",
              "      <th></th>\n",
              "      <th></th>\n",
              "      <th></th>\n",
              "      <th></th>\n",
              "      <th></th>\n",
              "      <th></th>\n",
              "      <th></th>\n",
              "      <th></th>\n",
              "      <th></th>\n",
              "      <th></th>\n",
              "    </tr>\n",
              "  </thead>\n",
              "  <tbody>\n",
              "    <tr>\n",
              "      <th>2023-01-01</th>\n",
              "      <td>16547.914062</td>\n",
              "      <td>16630.439453</td>\n",
              "      <td>16521.234375</td>\n",
              "      <td>16625.080078</td>\n",
              "      <td>16625.080078</td>\n",
              "      <td>9244361700</td>\n",
              "      <td>16738.676563</td>\n",
              "      <td>0.006833</td>\n",
              "      <td>NaN</td>\n",
              "      <td>NaN</td>\n",
              "      <td>...</td>\n",
              "      <td>NaN</td>\n",
              "      <td>NaN</td>\n",
              "      <td>NaN</td>\n",
              "      <td>NaN</td>\n",
              "      <td>NaN</td>\n",
              "      <td>NaN</td>\n",
              "      <td>NaN</td>\n",
              "      <td>NaN</td>\n",
              "      <td>NaN</td>\n",
              "      <td>NaN</td>\n",
              "    </tr>\n",
              "    <tr>\n",
              "      <th>2023-01-02</th>\n",
              "      <td>16625.509766</td>\n",
              "      <td>16759.343750</td>\n",
              "      <td>16572.228516</td>\n",
              "      <td>16688.470703</td>\n",
              "      <td>16688.470703</td>\n",
              "      <td>12097775227</td>\n",
              "      <td>16804.054297</td>\n",
              "      <td>0.006926</td>\n",
              "      <td>0.003813</td>\n",
              "      <td>NaN</td>\n",
              "      <td>...</td>\n",
              "      <td>NaN</td>\n",
              "      <td>NaN</td>\n",
              "      <td>NaN</td>\n",
              "      <td>NaN</td>\n",
              "      <td>NaN</td>\n",
              "      <td>0.000000</td>\n",
              "      <td>0.000000</td>\n",
              "      <td>0.000000</td>\n",
              "      <td>0.000000</td>\n",
              "      <td>0.000000</td>\n",
              "    </tr>\n",
              "    <tr>\n",
              "      <th>2023-01-03</th>\n",
              "      <td>16688.847656</td>\n",
              "      <td>16760.447266</td>\n",
              "      <td>16622.371094</td>\n",
              "      <td>16679.857422</td>\n",
              "      <td>16679.857422</td>\n",
              "      <td>13903079207</td>\n",
              "      <td>16857.375781</td>\n",
              "      <td>0.010643</td>\n",
              "      <td>-0.000516</td>\n",
              "      <td>NaN</td>\n",
              "      <td>...</td>\n",
              "      <td>NaN</td>\n",
              "      <td>NaN</td>\n",
              "      <td>NaN</td>\n",
              "      <td>NaN</td>\n",
              "      <td>NaN</td>\n",
              "      <td>0.000481</td>\n",
              "      <td>0.000060</td>\n",
              "      <td>0.000541</td>\n",
              "      <td>0.000036</td>\n",
              "      <td>0.000072</td>\n",
              "    </tr>\n",
              "    <tr>\n",
              "      <th>2023-01-04</th>\n",
              "      <td>16680.205078</td>\n",
              "      <td>16964.585938</td>\n",
              "      <td>16667.763672</td>\n",
              "      <td>16863.238281</td>\n",
              "      <td>16863.238281</td>\n",
              "      <td>18421743322</td>\n",
              "      <td>16939.633203</td>\n",
              "      <td>0.004530</td>\n",
              "      <td>0.010994</td>\n",
              "      <td>0.004764</td>\n",
              "      <td>...</td>\n",
              "      <td>NaN</td>\n",
              "      <td>NaN</td>\n",
              "      <td>NaN</td>\n",
              "      <td>NaN</td>\n",
              "      <td>NaN</td>\n",
              "      <td>-0.001343</td>\n",
              "      <td>-0.000151</td>\n",
              "      <td>-0.001494</td>\n",
              "      <td>-0.000088</td>\n",
              "      <td>-0.000171</td>\n",
              "    </tr>\n",
              "    <tr>\n",
              "      <th>2023-01-05</th>\n",
              "      <td>16863.472656</td>\n",
              "      <td>16884.021484</td>\n",
              "      <td>16790.283203</td>\n",
              "      <td>16836.736328</td>\n",
              "      <td>16836.736328</td>\n",
              "      <td>13692758566</td>\n",
              "      <td>17006.296484</td>\n",
              "      <td>0.010071</td>\n",
              "      <td>-0.001572</td>\n",
              "      <td>0.002969</td>\n",
              "      <td>...</td>\n",
              "      <td>NaN</td>\n",
              "      <td>NaN</td>\n",
              "      <td>NaN</td>\n",
              "      <td>NaN</td>\n",
              "      <td>NaN</td>\n",
              "      <td>0.000718</td>\n",
              "      <td>0.000056</td>\n",
              "      <td>0.000774</td>\n",
              "      <td>0.000030</td>\n",
              "      <td>0.000053</td>\n",
              "    </tr>\n",
              "  </tbody>\n",
              "</table>\n",
              "<p>5 rows × 34 columns</p>\n",
              "</div>\n",
              "    <div class=\"colab-df-buttons\">\n",
              "\n",
              "  <div class=\"colab-df-container\">\n",
              "    <button class=\"colab-df-convert\" onclick=\"convertToInteractive('df-40460013-b413-421d-8bc1-e0d445387fa0')\"\n",
              "            title=\"Convert this dataframe to an interactive table.\"\n",
              "            style=\"display:none;\">\n",
              "\n",
              "  <svg xmlns=\"http://www.w3.org/2000/svg\" height=\"24px\" viewBox=\"0 -960 960 960\">\n",
              "    <path d=\"M120-120v-720h720v720H120Zm60-500h600v-160H180v160Zm220 220h160v-160H400v160Zm0 220h160v-160H400v160ZM180-400h160v-160H180v160Zm440 0h160v-160H620v160ZM180-180h160v-160H180v160Zm440 0h160v-160H620v160Z\"/>\n",
              "  </svg>\n",
              "    </button>\n",
              "\n",
              "  <style>\n",
              "    .colab-df-container {\n",
              "      display:flex;\n",
              "      gap: 12px;\n",
              "    }\n",
              "\n",
              "    .colab-df-convert {\n",
              "      background-color: #E8F0FE;\n",
              "      border: none;\n",
              "      border-radius: 50%;\n",
              "      cursor: pointer;\n",
              "      display: none;\n",
              "      fill: #1967D2;\n",
              "      height: 32px;\n",
              "      padding: 0 0 0 0;\n",
              "      width: 32px;\n",
              "    }\n",
              "\n",
              "    .colab-df-convert:hover {\n",
              "      background-color: #E2EBFA;\n",
              "      box-shadow: 0px 1px 2px rgba(60, 64, 67, 0.3), 0px 1px 3px 1px rgba(60, 64, 67, 0.15);\n",
              "      fill: #174EA6;\n",
              "    }\n",
              "\n",
              "    .colab-df-buttons div {\n",
              "      margin-bottom: 4px;\n",
              "    }\n",
              "\n",
              "    [theme=dark] .colab-df-convert {\n",
              "      background-color: #3B4455;\n",
              "      fill: #D2E3FC;\n",
              "    }\n",
              "\n",
              "    [theme=dark] .colab-df-convert:hover {\n",
              "      background-color: #434B5C;\n",
              "      box-shadow: 0px 1px 3px 1px rgba(0, 0, 0, 0.15);\n",
              "      filter: drop-shadow(0px 1px 2px rgba(0, 0, 0, 0.3));\n",
              "      fill: #FFFFFF;\n",
              "    }\n",
              "  </style>\n",
              "\n",
              "    <script>\n",
              "      const buttonEl =\n",
              "        document.querySelector('#df-40460013-b413-421d-8bc1-e0d445387fa0 button.colab-df-convert');\n",
              "      buttonEl.style.display =\n",
              "        google.colab.kernel.accessAllowed ? 'block' : 'none';\n",
              "\n",
              "      async function convertToInteractive(key) {\n",
              "        const element = document.querySelector('#df-40460013-b413-421d-8bc1-e0d445387fa0');\n",
              "        const dataTable =\n",
              "          await google.colab.kernel.invokeFunction('convertToInteractive',\n",
              "                                                    [key], {});\n",
              "        if (!dataTable) return;\n",
              "\n",
              "        const docLinkHtml = 'Like what you see? Visit the ' +\n",
              "          '<a target=\"_blank\" href=https://colab.research.google.com/notebooks/data_table.ipynb>data table notebook</a>'\n",
              "          + ' to learn more about interactive tables.';\n",
              "        element.innerHTML = '';\n",
              "        dataTable['output_type'] = 'display_data';\n",
              "        await google.colab.output.renderOutput(dataTable, element);\n",
              "        const docLink = document.createElement('div');\n",
              "        docLink.innerHTML = docLinkHtml;\n",
              "        element.appendChild(docLink);\n",
              "      }\n",
              "    </script>\n",
              "  </div>\n",
              "\n",
              "\n",
              "<div id=\"df-8dd43ecf-d61c-4a2b-a7a1-13d0f1ed21d1\">\n",
              "  <button class=\"colab-df-quickchart\" onclick=\"quickchart('df-8dd43ecf-d61c-4a2b-a7a1-13d0f1ed21d1')\"\n",
              "            title=\"Suggest charts\"\n",
              "            style=\"display:none;\">\n",
              "\n",
              "<svg xmlns=\"http://www.w3.org/2000/svg\" height=\"24px\"viewBox=\"0 0 24 24\"\n",
              "     width=\"24px\">\n",
              "    <g>\n",
              "        <path d=\"M19 3H5c-1.1 0-2 .9-2 2v14c0 1.1.9 2 2 2h14c1.1 0 2-.9 2-2V5c0-1.1-.9-2-2-2zM9 17H7v-7h2v7zm4 0h-2V7h2v10zm4 0h-2v-4h2v4z\"/>\n",
              "    </g>\n",
              "</svg>\n",
              "  </button>\n",
              "\n",
              "<style>\n",
              "  .colab-df-quickchart {\n",
              "      --bg-color: #E8F0FE;\n",
              "      --fill-color: #1967D2;\n",
              "      --hover-bg-color: #E2EBFA;\n",
              "      --hover-fill-color: #174EA6;\n",
              "      --disabled-fill-color: #AAA;\n",
              "      --disabled-bg-color: #DDD;\n",
              "  }\n",
              "\n",
              "  [theme=dark] .colab-df-quickchart {\n",
              "      --bg-color: #3B4455;\n",
              "      --fill-color: #D2E3FC;\n",
              "      --hover-bg-color: #434B5C;\n",
              "      --hover-fill-color: #FFFFFF;\n",
              "      --disabled-bg-color: #3B4455;\n",
              "      --disabled-fill-color: #666;\n",
              "  }\n",
              "\n",
              "  .colab-df-quickchart {\n",
              "    background-color: var(--bg-color);\n",
              "    border: none;\n",
              "    border-radius: 50%;\n",
              "    cursor: pointer;\n",
              "    display: none;\n",
              "    fill: var(--fill-color);\n",
              "    height: 32px;\n",
              "    padding: 0;\n",
              "    width: 32px;\n",
              "  }\n",
              "\n",
              "  .colab-df-quickchart:hover {\n",
              "    background-color: var(--hover-bg-color);\n",
              "    box-shadow: 0 1px 2px rgba(60, 64, 67, 0.3), 0 1px 3px 1px rgba(60, 64, 67, 0.15);\n",
              "    fill: var(--button-hover-fill-color);\n",
              "  }\n",
              "\n",
              "  .colab-df-quickchart-complete:disabled,\n",
              "  .colab-df-quickchart-complete:disabled:hover {\n",
              "    background-color: var(--disabled-bg-color);\n",
              "    fill: var(--disabled-fill-color);\n",
              "    box-shadow: none;\n",
              "  }\n",
              "\n",
              "  .colab-df-spinner {\n",
              "    border: 2px solid var(--fill-color);\n",
              "    border-color: transparent;\n",
              "    border-bottom-color: var(--fill-color);\n",
              "    animation:\n",
              "      spin 1s steps(1) infinite;\n",
              "  }\n",
              "\n",
              "  @keyframes spin {\n",
              "    0% {\n",
              "      border-color: transparent;\n",
              "      border-bottom-color: var(--fill-color);\n",
              "      border-left-color: var(--fill-color);\n",
              "    }\n",
              "    20% {\n",
              "      border-color: transparent;\n",
              "      border-left-color: var(--fill-color);\n",
              "      border-top-color: var(--fill-color);\n",
              "    }\n",
              "    30% {\n",
              "      border-color: transparent;\n",
              "      border-left-color: var(--fill-color);\n",
              "      border-top-color: var(--fill-color);\n",
              "      border-right-color: var(--fill-color);\n",
              "    }\n",
              "    40% {\n",
              "      border-color: transparent;\n",
              "      border-right-color: var(--fill-color);\n",
              "      border-top-color: var(--fill-color);\n",
              "    }\n",
              "    60% {\n",
              "      border-color: transparent;\n",
              "      border-right-color: var(--fill-color);\n",
              "    }\n",
              "    80% {\n",
              "      border-color: transparent;\n",
              "      border-right-color: var(--fill-color);\n",
              "      border-bottom-color: var(--fill-color);\n",
              "    }\n",
              "    90% {\n",
              "      border-color: transparent;\n",
              "      border-bottom-color: var(--fill-color);\n",
              "    }\n",
              "  }\n",
              "</style>\n",
              "\n",
              "  <script>\n",
              "    async function quickchart(key) {\n",
              "      const quickchartButtonEl =\n",
              "        document.querySelector('#' + key + ' button');\n",
              "      quickchartButtonEl.disabled = true;  // To prevent multiple clicks.\n",
              "      quickchartButtonEl.classList.add('colab-df-spinner');\n",
              "      try {\n",
              "        const charts = await google.colab.kernel.invokeFunction(\n",
              "            'suggestCharts', [key], {});\n",
              "      } catch (error) {\n",
              "        console.error('Error during call to suggestCharts:', error);\n",
              "      }\n",
              "      quickchartButtonEl.classList.remove('colab-df-spinner');\n",
              "      quickchartButtonEl.classList.add('colab-df-quickchart-complete');\n",
              "    }\n",
              "    (() => {\n",
              "      let quickchartButtonEl =\n",
              "        document.querySelector('#df-8dd43ecf-d61c-4a2b-a7a1-13d0f1ed21d1 button');\n",
              "      quickchartButtonEl.style.display =\n",
              "        google.colab.kernel.accessAllowed ? 'block' : 'none';\n",
              "    })();\n",
              "  </script>\n",
              "</div>\n",
              "\n",
              "    </div>\n",
              "  </div>\n"
            ],
            "application/vnd.google.colaboratory.intrinsic+json": {
              "type": "dataframe",
              "variable_name": "bitcoin_df"
            }
          },
          "metadata": {},
          "execution_count": 226
        }
      ]
    },
    {
      "cell_type": "code",
      "source": [
        "bitcoin_df['volatility']= bitcoin_df['daily_returns'].rolling(window=5).std()*np.sqrt(424)"
      ],
      "metadata": {
        "id": "BZHZw-unQz7G"
      },
      "execution_count": null,
      "outputs": []
    },
    {
      "cell_type": "markdown",
      "source": [
        "# Fixing the threshold for target variable"
      ],
      "metadata": {
        "id": "dsJAiEnTyq_M"
      }
    },
    {
      "cell_type": "code",
      "source": [
        "# Define X as 80th percentile or 90th percentile\n",
        "X = bitcoin_df['average_return_next_5_days'].quantile(0.8)\n",
        "if X < 0.02:\n",
        "    X = bitcoin_df['average_return_next_5_days'].quantile(0.9)"
      ],
      "metadata": {
        "id": "Rz3QzR8RN_Yz"
      },
      "execution_count": null,
      "outputs": []
    },
    {
      "cell_type": "code",
      "source": [
        "X"
      ],
      "metadata": {
        "colab": {
          "base_uri": "https://localhost:8080/"
        },
        "id": "OB-aIK4FhGPF",
        "outputId": "e5c819d5-1527-42ad-8004-984eb0c124b6"
      },
      "execution_count": null,
      "outputs": [
        {
          "output_type": "execute_result",
          "data": {
            "text/plain": [
              "0.02341329717702149"
            ]
          },
          "metadata": {},
          "execution_count": 229
        }
      ]
    },
    {
      "cell_type": "code",
      "source": [
        "import talib"
      ],
      "metadata": {
        "id": "g9cjHhMPGcAW"
      },
      "execution_count": null,
      "outputs": []
    },
    {
      "cell_type": "markdown",
      "source": [
        "# Calculating some technical indicators to add as features"
      ],
      "metadata": {
        "id": "c5Y8WltqyP1h"
      }
    },
    {
      "cell_type": "code",
      "source": [
        "#These indicators focus on giving us information about Volatility, Volume and Momentum/Trend in the graph.\n",
        "\n",
        "# RSI for Bitcoin\n",
        "bitcoin_df['RSI'] = talib.RSI(bitcoin_df['Close'], timeperiod=7)\n",
        "\n",
        "# MACD for Bitcoin\n",
        "bitcoin_df['MACD'], bitcoin_df['MACD_signal'], bitcoin_df['MACD_hist'] = talib.MACD(\n",
        "    bitcoin_df['Close'], fastperiod=5, slowperiod=10, signalperiod=5)\n",
        "\n",
        "# Bollinger Bands for Bitcoin\n",
        "bitcoin_df['BB_upper'], bitcoin_df['BB_middle'], bitcoin_df['BB_lower'] = talib.BBANDS(\n",
        "    bitcoin_df['Close'], timeperiod=10, nbdevup=2, nbdevdn=2, matype=0)\n",
        "\n",
        "# Average True Range (ATR) for Bitcoin\n",
        "bitcoin_df['ATR'] = talib.ATR(bitcoin_df['High'], bitcoin_df['Low'], bitcoin_df['Close'], timeperiod=7)\n",
        "\n",
        "# Stochastic Oscillator for Bitcoin\n",
        "bitcoin_df['stoch_k'], bitcoin_df['stoch_d'] = talib.STOCH(\n",
        "    bitcoin_df['High'], bitcoin_df['Low'], bitcoin_df['Close'],\n",
        "    fastk_period=7, slowk_period=3, slowk_matype=0, slowd_period=3, slowd_matype=0)\n",
        "\n",
        "# On-Balance Volume (OBV) for Bitcoin\n",
        "bitcoin_df['OBV'] = talib.OBV(bitcoin_df['Close'], bitcoin_df['Volume'])\n",
        "\n",
        "# Parabolic SAR for Bitcoin\n",
        "bitcoin_df['SAR'] = talib.SAR(bitcoin_df['High'], bitcoin_df['Low'], acceleration=0.02, maximum=0.2)\n",
        "\n",
        "# Commodity Channel Index (CCI) for Bitcoin\n",
        "bitcoin_df['CCI'] = talib.CCI(bitcoin_df['High'], bitcoin_df['Low'], bitcoin_df['Close'], timeperiod=7)\n",
        "\n",
        "# Accumulation/Distribution Line (ADL) for Bitcoin\n",
        "bitcoin_df['ADL'] = talib.AD(bitcoin_df['High'], bitcoin_df['Low'], bitcoin_df['Close'], bitcoin_df['Volume'])\n",
        "\n",
        "# Momentum Indicator (MOM) for Bitcoin\n",
        "bitcoin_df['MOM'] = talib.MOM(bitcoin_df['Close'], timeperiod=5)\n",
        "\n",
        "\n",
        "\n",
        "\n",
        "\n"
      ],
      "metadata": {
        "id": "fV855FE-GO32"
      },
      "execution_count": null,
      "outputs": []
    },
    {
      "cell_type": "code",
      "source": [
        "bitcoin_df"
      ],
      "metadata": {
        "id": "57-nsz3jR7mE"
      },
      "execution_count": null,
      "outputs": []
    },
    {
      "cell_type": "code",
      "source": [
        "# prompt: calculate null values in each column\n",
        "\n",
        "# Check for missing values in each column\n",
        "missing_values = bitcoin_df.isnull().sum()\n",
        "print(missing_values)\n"
      ],
      "metadata": {
        "id": "SiQVlJT8E1Cj"
      },
      "execution_count": null,
      "outputs": []
    },
    {
      "cell_type": "markdown",
      "source": [
        "# Plotting the time series of the average returns on Bitcoin"
      ],
      "metadata": {
        "id": "XedHh8eehwum"
      }
    },
    {
      "cell_type": "code",
      "source": [
        "import matplotlib.pyplot as plt\n",
        "plt.style.use('default')\n",
        "%matplotlib inline\n",
        "plt.plot(bitcoin_df.index, bitcoin_df['average_return_next_5_days'])\n",
        "plt.xlabel('Date')\n",
        "plt.ylabel('Average Return in Next 5 Days')\n",
        "plt.title('Average Return in Next 5 Days Time Series')\n",
        "plt.show()"
      ],
      "metadata": {
        "id": "29AWPNzdSO74",
        "outputId": "b82f047c-339e-4689-e69a-a1fcdfeebbba",
        "colab": {
          "base_uri": "https://localhost:8080/",
          "height": 472
        }
      },
      "execution_count": null,
      "outputs": [
        {
          "output_type": "display_data",
          "data": {
            "text/plain": [
              "<Figure size 640x480 with 1 Axes>"
            ],
            "image/png": "[encoded data removed]"
          },
          "metadata": {}
        }
      ]
    },
    {
      "cell_type": "code",
      "source": [
        "# Define target variable\n",
        "bitcoin_df['target'] = (bitcoin_df['average_return_next_5_days'] >= X).shift(-5).dropna()"
      ],
      "metadata": {
        "id": "L70Ns-wSS0p3"
      },
      "execution_count": null,
      "outputs": []
    },
    {
      "cell_type": "code",
      "source": [
        "bitcoin_df.head(10)"
      ],
      "metadata": {
        "id": "c892tW6J4QaX"
      },
      "execution_count": null,
      "outputs": []
    },
    {
      "cell_type": "code",
      "source": [
        "\n",
        "bitcoin_df = bitcoin_df.dropna(subset=['target'])\n",
        "\n",
        "# Now, bitcoin_df does not contain rows where 'target' is NaN.\n"
      ],
      "metadata": {
        "id": "zS_1NI2i9bYy"
      },
      "execution_count": null,
      "outputs": []
    },
    {
      "cell_type": "code",
      "source": [
        "bitcoin_df['target']=bitcoin_df['target'].astype(int) #converting Target variable to zeroes and ones from boolean values."
      ],
      "metadata": {
        "id": "xPYMZMvR_E_5"
      },
      "execution_count": null,
      "outputs": []
    },
    {
      "cell_type": "code",
      "source": [
        "# a plot of bitcoin_df['target'] where you can show class imbalance in them\n",
        "\n",
        "import matplotlib.pyplot as plt\n",
        "# Plot the distribution of the target variable\n",
        "plt.figure(figsize=(10, 6))\n",
        "plt.hist(bitcoin_df['target'], bins=2, edgecolor='black')\n",
        "plt.title('Distribution of Target Variable')\n",
        "plt.xlabel('Target Class')\n",
        "plt.ylabel('Frequency')\n",
        "plt.xticks([0, 1], ['Zeroes', 'Ones'])\n",
        "plt.show()\n"
      ],
      "metadata": {
        "colab": {
          "base_uri": "https://localhost:8080/",
          "height": 564
        },
        "id": "AvNCwC3YiBYd",
        "outputId": "2abba65c-1f74-4a14-8111-b48a8869cf87"
      },
      "execution_count": null,
      "outputs": [
        {
          "output_type": "display_data",
          "data": {
            "text/plain": [
              "<Figure size 1000x600 with 1 Axes>"
            ],
            "image/png": "[encoded data removed]"
          },
          "metadata": {}
        }
      ]
    },
    {
      "cell_type": "code",
      "source": [
        "import matplotlib.pyplot as plt\n",
        "\n",
        "# Plot the distribution of the target variable\n",
        "plt.figure(figsize=(10, 6), facecolor='none')\n",
        "plt.hist(bitcoin_df['target'], bins=2, edgecolor='black')\n",
        "plt.title('Distribution of Target Variable')\n",
        "plt.xlabel('Target Class')\n",
        "plt.ylabel('Frequency')\n",
        "plt.xticks([0, 1], ['Zeroes', 'Ones'])\n",
        "plt.show()"
      ],
      "metadata": {
        "colab": {
          "base_uri": "https://localhost:8080/",
          "height": 564
        },
        "id": "gRc-84TY3ZAM",
        "outputId": "484a3c72-6e7e-441f-b712-324c0a69ed66"
      },
      "execution_count": null,
      "outputs": [
        {
          "output_type": "display_data",
          "data": {
            "text/plain": [
              "<Figure size 1000x600 with 1 Axes>"
            ],
            "image/png": "[encoded data removed]"
          },
          "metadata": {
            "needs_background": "light"
          }
        }
      ]
    },
    {
      "cell_type": "code",
      "source": [
        "bitcoin_df.shape"
      ],
      "metadata": {
        "colab": {
          "base_uri": "https://localhost:8080/"
        },
        "id": "_fYgf4-5_8d6",
        "outputId": "00dcdea9-ae65-4a5d-ed8e-1728160dc09d"
      },
      "execution_count": null,
      "outputs": [
        {
          "output_type": "execute_result",
          "data": {
            "text/plain": [
              "(419, 51)"
            ]
          },
          "metadata": {},
          "execution_count": 158
        }
      ]
    },
    {
      "cell_type": "markdown",
      "source": [
        "# Simply checking and plotting for correlation among variables and their correlation with target variable."
      ],
      "metadata": {
        "id": "uHv2pCSOx_sZ"
      }
    },
    {
      "cell_type": "code",
      "source": [
        "#checking for correlation\n",
        "correlation_with_target = bitcoin_df.corrwith(bitcoin_df['target']).sort_values()\n",
        "\n",
        "# Display the correlation values\n",
        "print(correlation_with_target)"
      ],
      "metadata": {
        "id": "9KqiibA-jZt1"
      },
      "execution_count": null,
      "outputs": []
    },
    {
      "cell_type": "code",
      "source": [
        "#checking for multi-collinearity\n",
        "# Calculate correlation matrix for features\n",
        "correlation_matrix = bitcoin_df.drop('target', axis=1).corr()\n",
        "\n",
        "#Display the correlation matrix\n",
        "print(correlation_matrix)\n"
      ],
      "metadata": {
        "id": "9cYImT3ojxOo"
      },
      "execution_count": null,
      "outputs": []
    },
    {
      "cell_type": "code",
      "source": [
        "import seaborn as sns\n",
        "import matplotlib.pyplot as plt\n",
        "\n",
        "# Plotting the heatmap\n",
        "plt.figure(figsize=(10, 8))\n",
        "sns.heatmap(correlation_matrix, annot=True, fmt=\".2f\", cmap='coolwarm')\n",
        "plt.title(\"Feature Correlation Matrix\")\n",
        "plt.show()\n"
      ],
      "metadata": {
        "id": "U4_GlD7wkC5O"
      },
      "execution_count": null,
      "outputs": []
    },
    {
      "cell_type": "markdown",
      "source": [
        "# Data splitting"
      ],
      "metadata": {
        "id": "Y6NJgiTIzE4M"
      }
    },
    {
      "cell_type": "code",
      "source": [
        "# Define split dates\n",
        "split_date1 = '2023-10-17'  # First split date\n",
        "split_date2 = '2023-12-22'  # Second split date\n",
        "\n",
        "# Split the data into train, and tests sets\n",
        "Train = bitcoin_df[bitcoin_df.index < split_date1]\n",
        "Test1 = bitcoin_df[(bitcoin_df.index >= split_date1) & (bitcoin_df.index < split_date2)]\n",
        "Test2 = bitcoin_df[bitcoin_df.index >= split_date2]\n"
      ],
      "metadata": {
        "id": "QmAL6gPiTu2w"
      },
      "execution_count": null,
      "outputs": []
    },
    {
      "cell_type": "code",
      "source": [
        "Y_train = Train.target\n",
        "X_train = Train.drop([\"target\"], axis = 1)\n",
        "\n",
        "Y_test_1 = Test1.target\n",
        "X_test_1 = Test1.drop([\"target\"], axis = 1)\n",
        "\n",
        "Y_test_2 = Test2.target\n",
        "X_test_2 = Test2.drop([\"target\"], axis = 1)"
      ],
      "metadata": {
        "id": "K4atSz9uXMIv"
      },
      "execution_count": null,
      "outputs": []
    },
    {
      "cell_type": "code",
      "source": [
        "Y_train.shape[0]"
      ],
      "metadata": {
        "id": "GsuT0KcaXc8b",
        "outputId": "6ee52333-dab5-44c1-e7bf-8a934c11fa07",
        "colab": {
          "base_uri": "https://localhost:8080/"
        }
      },
      "execution_count": null,
      "outputs": [
        {
          "output_type": "execute_result",
          "data": {
            "text/plain": [
              "289"
            ]
          },
          "metadata": {},
          "execution_count": 244
        }
      ]
    },
    {
      "cell_type": "code",
      "source": [
        "X_test_1.columns"
      ],
      "metadata": {
        "id": "rahMZDiAXdge",
        "colab": {
          "base_uri": "https://localhost:8080/"
        },
        "outputId": "fe0608c2-06ee-42c5-b593-b186c2fe2a1a"
      },
      "execution_count": null,
      "outputs": [
        {
          "output_type": "execute_result",
          "data": {
            "text/plain": [
              "Index(['Open', 'High', 'Low', 'Close', 'Adj Close', 'Volume',\n",
              "       'rolling_avg_next_5', 'average_return_next_5_days', 'daily_returns',\n",
              "       'MA_returns_3', 'MA_returns_9', 'MA_returns_12', 'MA_returns_15',\n",
              "       'MA_returns_30', 'EWMA_returns_3', 'EWMA_returns_9', 'EWMA_returns_12',\n",
              "       'EWMA_returns_15', 'EWMA_returns_30', 'Volatility_returns_3',\n",
              "       'Volatility_returns_9', 'Volatility_returns_12',\n",
              "       'Volatility_returns_15', 'Volatility_returns_30', 'MA_diff_9_3',\n",
              "       'MA_diff_12_9', 'MA_diff_12_3', 'MA_diff_15_12', 'MA_diff_15_30',\n",
              "       'EWMA_diff_9_3', 'EWMA_diff_12_9', 'EWMA_diff_12_3', 'EWMA_diff_15_12',\n",
              "       'EWMA_diff_15_30', 'volatility', 'RSI', 'MACD', 'MACD_signal',\n",
              "       'MACD_hist', 'BB_upper', 'BB_middle', 'BB_lower', 'ATR', 'stoch_k',\n",
              "       'stoch_d', 'OBV', 'SAR', 'CCI', 'ADL', 'MOM'],\n",
              "      dtype='object')"
            ]
          },
          "metadata": {},
          "execution_count": 245
        }
      ]
    },
    {
      "cell_type": "code",
      "source": [
        "print (X_train.shape)\n",
        "print (X_test_1.shape[0])\n",
        "print (X_test_2.shape[0])"
      ],
      "metadata": {
        "id": "8uOXXbzqXfw1",
        "outputId": "6e43f3ec-c34f-4cd2-fcaa-b1cf607a5388",
        "colab": {
          "base_uri": "https://localhost:8080/"
        }
      },
      "execution_count": null,
      "outputs": [
        {
          "output_type": "stream",
          "name": "stdout",
          "text": [
            "(289, 50)\n",
            "66\n",
            "64\n"
          ]
        }
      ]
    },
    {
      "cell_type": "markdown",
      "source": [
        "# We will use SHAP analysis instead of feature imporatnce to get the most relevant features.\n",
        "\n"
      ],
      "metadata": {
        "id": "iMa0-GoYxvkW"
      }
    },
    {
      "cell_type": "code",
      "source": [
        "import xgboost as xgb\n",
        "xgb_instance = xgb.XGBClassifier(n_estimators = 20)\n",
        "model_feature_importance = xgb_instance.fit(X_train, Y_train)"
      ],
      "metadata": {
        "id": "v_3L1spWXk1-"
      },
      "execution_count": null,
      "outputs": []
    },
    {
      "cell_type": "code",
      "source": [],
      "metadata": {
        "id": "Pxbqm_P0Xpme"
      },
      "execution_count": null,
      "outputs": []
    },
    {
      "cell_type": "code",
      "source": [
        "#feature_importance = {'Feature':X_train.columns,'Importance':model_feature_importance.feature_importances_}\n",
        "#feature_importance = pd.DataFrame(feature_importance)\n",
        "#feature_importance.sort_values(\"Importance\", inplace=True,ascending=False)\n",
        "#print (feature_importance.to_string())"
      ],
      "metadata": {
        "id": "I46jCzRVX60s"
      },
      "execution_count": null,
      "outputs": []
    },
    {
      "cell_type": "code",
      "source": [
        "#final_features = feature_importance[\"Feature\"][feature_importance.Importance > 0.01]"
      ],
      "metadata": {
        "id": "h1nH0BXbY05o"
      },
      "execution_count": null,
      "outputs": []
    },
    {
      "cell_type": "code",
      "source": [
        "# prompt: install shap\n",
        "\n",
        "!pip install shap\n"
      ],
      "metadata": {
        "id": "CHwDu7W-VRnH",
        "colab": {
          "base_uri": "https://localhost:8080/"
        },
        "outputId": "c0ead3b0-8ce5-4503-b44d-030fddc6e552"
      },
      "execution_count": null,
      "outputs": [
        {
          "output_type": "stream",
          "name": "stdout",
          "text": [
            "Requirement already satisfied: shap in /usr/local/lib/python3.10/dist-packages (0.45.0)\n",
            "Requirement already satisfied: numpy in /usr/local/lib/python3.10/dist-packages (from shap) (1.25.2)\n",
            "Requirement already satisfied: scipy in /usr/local/lib/python3.10/dist-packages (from shap) (1.11.4)\n",
            "Requirement already satisfied: scikit-learn in /usr/local/lib/python3.10/dist-packages (from shap) (1.2.2)\n",
            "Requirement already satisfied: pandas in /usr/local/lib/python3.10/dist-packages (from shap) (2.0.3)\n",
            "Requirement already satisfied: tqdm>=4.27.0 in /usr/local/lib/python3.10/dist-packages (from shap) (4.66.2)\n",
            "Requirement already satisfied: packaging>20.9 in /usr/local/lib/python3.10/dist-packages (from shap) (24.0)\n",
            "Requirement already satisfied: slicer==0.0.7 in /usr/local/lib/python3.10/dist-packages (from shap) (0.0.7)\n",
            "Requirement already satisfied: numba in /usr/local/lib/python3.10/dist-packages (from shap) (0.58.1)\n",
            "Requirement already satisfied: cloudpickle in /usr/local/lib/python3.10/dist-packages (from shap) (2.2.1)\n",
            "Requirement already satisfied: llvmlite<0.42,>=0.41.0dev0 in /usr/local/lib/python3.10/dist-packages (from numba->shap) (0.41.1)\n",
            "Requirement already satisfied: python-dateutil>=2.8.2 in /usr/local/lib/python3.10/dist-packages (from pandas->shap) (2.8.2)\n",
            "Requirement already satisfied: pytz>=2020.1 in /usr/local/lib/python3.10/dist-packages (from pandas->shap) (2023.4)\n",
            "Requirement already satisfied: tzdata>=2022.1 in /usr/local/lib/python3.10/dist-packages (from pandas->shap) (2024.1)\n",
            "Requirement already satisfied: joblib>=1.1.1 in /usr/local/lib/python3.10/dist-packages (from scikit-learn->shap) (1.3.2)\n",
            "Requirement already satisfied: threadpoolctl>=2.0.0 in /usr/local/lib/python3.10/dist-packages (from scikit-learn->shap) (3.4.0)\n",
            "Requirement already satisfied: six>=1.5 in /usr/local/lib/python3.10/dist-packages (from python-dateutil>=2.8.2->pandas->shap) (1.16.0)\n"
          ]
        }
      ]
    },
    {
      "cell_type": "code",
      "source": [
        "# code that will show SHAP analysis\n",
        "\n",
        "import shap\n",
        "explainer = shap.TreeExplainer(xgb_instance)\n",
        "shap_values = explainer.shap_values(X_train)\n",
        "shap_summary = pd.DataFrame(shap_values, columns=X_train.columns)\n",
        "\n",
        "# Calculate the mean absolute value of the SHAP values for each feature\n",
        "shap_importance = shap_summary.apply(np.abs).mean().sort_values(ascending=False)\n",
        "\n",
        "# Print the feature importance\n",
        "print(shap_importance)\n"
      ],
      "metadata": {
        "id": "-pkY26fiVGA1",
        "colab": {
          "base_uri": "https://localhost:8080/"
        },
        "outputId": "370522d9-6c3b-45a1-f6ea-c571ddb79cee"
      },
      "execution_count": null,
      "outputs": [
        {
          "output_type": "stream",
          "name": "stdout",
          "text": [
            "OBV                           0.604183\n",
            "MA_returns_15                 0.404385\n",
            "rolling_avg_next_5            0.350251\n",
            "MA_returns_30                 0.262139\n",
            "MA_diff_15_30                 0.249528\n",
            "MACD_hist                     0.223509\n",
            "EWMA_diff_9_3                 0.206384\n",
            "SAR                           0.205573\n",
            "Volume                        0.168846\n",
            "average_return_next_5_days    0.149769\n",
            "MA_diff_12_3                  0.145728\n",
            "BB_middle                     0.142937\n",
            "MA_diff_9_3                   0.141076\n",
            "Volatility_returns_15         0.137978\n",
            "ATR                           0.128904\n",
            "Volatility_returns_9          0.126036\n",
            "MA_returns_3                  0.112856\n",
            "daily_returns                 0.105642\n",
            "Volatility_returns_3          0.098000\n",
            "EWMA_diff_15_12               0.085559\n",
            "stoch_d                       0.084193\n",
            "BB_upper                      0.083304\n",
            "Volatility_returns_30         0.082134\n",
            "MA_diff_15_12                 0.081180\n",
            "EWMA_returns_9                0.079972\n",
            "MOM                           0.075577\n",
            "volatility                    0.074147\n",
            "MACD_signal                   0.066704\n",
            "BB_lower                      0.063486\n",
            "MACD                          0.052011\n",
            "CCI                           0.051738\n",
            "EWMA_diff_15_30               0.048745\n",
            "Volatility_returns_12         0.046652\n",
            "MA_returns_12                 0.043927\n",
            "Low                           0.043620\n",
            "MA_diff_12_9                  0.040828\n",
            "EWMA_diff_12_9                0.038883\n",
            "ADL                           0.035868\n",
            "EWMA_diff_12_3                0.034626\n",
            "stoch_k                       0.028276\n",
            "EWMA_returns_15               0.028152\n",
            "RSI                           0.026334\n",
            "Open                          0.023148\n",
            "EWMA_returns_3                0.021301\n",
            "EWMA_returns_30               0.020137\n",
            "High                          0.018216\n",
            "Close                         0.012065\n",
            "EWMA_returns_12               0.000000\n",
            "MA_returns_9                  0.000000\n",
            "Adj Close                     0.000000\n",
            "dtype: float32\n"
          ]
        }
      ]
    },
    {
      "cell_type": "code",
      "source": [
        "# Select the top N features\n",
        "N = 20  # For example, select the top 20 features\n",
        "top_features = shap_importance.head(N).index.tolist()\n",
        "\n",
        "\n",
        "# Subset your training and test sets to include only the top features\n",
        "X_train_selected = X_train[top_features]\n",
        "X_test_1_selected = X_test_1[top_features]\n",
        "X_test_2_selected = X_test_2[top_features]\n"
      ],
      "metadata": {
        "id": "bGmjctHYaBS4"
      },
      "execution_count": null,
      "outputs": []
    },
    {
      "cell_type": "code",
      "source": [
        "#X_train = X_train[final_features]\n",
        "#X_test_1 = X_test_1[final_features]\n",
        "#X_test_2 = X_test_2[final_features]"
      ],
      "metadata": {
        "id": "4EmyKK0UaVNZ"
      },
      "execution_count": null,
      "outputs": []
    },
    {
      "cell_type": "code",
      "source": [
        "print (X_train_selected.shape)\n",
        "print (X_test_1_selected.shape)\n",
        "print (X_test_2_selected.shape)"
      ],
      "metadata": {
        "id": "C8UMN1rHaW88",
        "colab": {
          "base_uri": "https://localhost:8080/"
        },
        "outputId": "97f14300-004a-4abe-d9c8-89d5cfcd17f1"
      },
      "execution_count": null,
      "outputs": [
        {
          "output_type": "stream",
          "name": "stdout",
          "text": [
            "(289, 20)\n",
            "(66, 20)\n",
            "(64, 20)\n"
          ]
        }
      ]
    },
    {
      "cell_type": "code",
      "source": [
        "#bitcoin_df_plotDF= bitcoin_df[top_features]"
      ],
      "metadata": {
        "id": "ZbUQEpOxmrhp"
      },
      "execution_count": null,
      "outputs": []
    },
    {
      "cell_type": "code",
      "source": [
        "#from statsmodels.graphics.tsaplots import plot_acf, plot_pacf"
      ],
      "metadata": {
        "id": "RkZjcMPxnCkV"
      },
      "execution_count": null,
      "outputs": []
    },
    {
      "cell_type": "code",
      "source": [
        "#for col in bitcoin_df_plotDF.columns:\n",
        "    #if col != 'Date' and col != 'average_return_next_5_days':\n",
        "       # plt.figure(figsize=(10, 4))\n",
        "       # plot_acf(bitcoin_df_plotDF[col], lags=30)\n",
        "       # plt.title(f'Autocorrelation Function (ACF) for {col}')\n",
        "       # plt.xlabel('Lag')\n",
        "        #plt.ylabel('Autocorrelation')\n",
        "       # plt.show()\n",
        "\n",
        "        #plt.figure(figsize=(10, 4))\n",
        "        #plot_pacf(bitcoin_df_plotDF[col], lags=30)\n",
        "        #plt.title(f'Partial Autocorrelation Function (PACF) for {col}')\n",
        "        #plt.xlabel('Lag')\n",
        "        #plt.ylabel('Partial Autocorrelation')\n",
        "        #plt.show()"
      ],
      "metadata": {
        "id": "OO2a6i5e36Yp"
      },
      "execution_count": null,
      "outputs": []
    },
    {
      "cell_type": "code",
      "source": [
        "from sklearn.metrics import roc_auc_score\n",
        "import pandas as pd\n",
        "import xgboost as xgb\n",
        "\n",
        "# Initialize a DataFrame to store the results\n",
        "table = pd.DataFrame(columns=[\"Num Trees\", \"Learning Rate\",\"max_depth\", \"Reg Alpha\", \"Reg Lambda\",\"Weight\",\"AUC Train\", \"AUC Test1\", \"AUC Test2\"])\n",
        "\n",
        "row = 0\n",
        "for num_trees in [20,50,100]:\n",
        "    for lr in [0.001, 0.01, 0.1]:\n",
        "       for max_depth in [3, 4]:\n",
        "        for reg_alpha in [0, 0.1, 1, 5]:\n",
        "          for reg_lambda in [0, 0.1, 1, 5]:\n",
        "              for weight in [1, 5, 10]:\n",
        "                # Initialize XGBoost classifier with specified parameters\n",
        "                xgb_instance = xgb.XGBClassifier(n_estimators=num_trees,\n",
        "                                                 learning_rate=lr,\n",
        "                                                 max_depth= max_depth,\n",
        "                                                 reg_alpha=reg_alpha,  # L1 regularization\n",
        "                                                 reg_lambda=reg_lambda,  # L2 regularization\n",
        "                                                 scale_pos_weight=weight)\n",
        "                # Fit the model on training data\n",
        "                model = xgb_instance.fit(X_train_selected, Y_train)\n",
        "\n",
        "                # Calculate AUC scores for training and testing sets\n",
        "                auc_train = roc_auc_score(Y_train, model.predict_proba(X_train_selected)[:, 1])\n",
        "                auc_test1 = roc_auc_score(Y_test_1, model.predict_proba(X_test_1_selected)[:, 1])\n",
        "                auc_test2 = roc_auc_score(Y_test_2, model.predict_proba(X_test_2_selected)[:, 1])\n",
        "\n",
        "                # Store the results in the DataFrame\n",
        "                table.loc[row, \"Num Trees\"] = num_trees\n",
        "                table.loc[row, \"Learning Rate\"] = lr\n",
        "                table.loc[row, \"max_depth\"] = max_depth\n",
        "                table.loc[row, \"Reg Alpha\"] = reg_alpha\n",
        "                table.loc[row, \"Reg Lambda\"] = reg_lambda\n",
        "                table.loc[row, \"Weight\"] = weight\n",
        "                table.loc[row, \"AUC Train\"] = auc_train\n",
        "                table.loc[row, \"AUC Test1\"] = auc_test1\n",
        "                table.loc[row, \"AUC Test2\"] = auc_test2\n",
        "\n",
        "                row += 1"
      ],
      "metadata": {
        "id": "uOo7ZK70aZCD"
      },
      "execution_count": null,
      "outputs": []
    },
    {
      "cell_type": "code",
      "source": [
        "table"
      ],
      "metadata": {
        "id": "DEcFbivFab_X",
        "colab": {
          "base_uri": "https://localhost:8080/",
          "height": 499
        },
        "outputId": "e65a979e-bbfd-46ca-bb83-0017912faf1e"
      },
      "execution_count": null,
      "outputs": [
        {
          "output_type": "execute_result",
          "data": {
            "text/plain": [
              "    Num Trees Learning Rate max_depth Reg Alpha Reg Lambda Weight AUC Train  \\\n",
              "0          20         0.001         3         0          0      1  0.877637   \n",
              "1          20         0.001         3         0          0      5  0.888105   \n",
              "2          20         0.001         3         0          0     10  0.775438   \n",
              "3          20         0.001         3         0        0.1      1   0.87715   \n",
              "4          20         0.001         3         0        0.1      5  0.888105   \n",
              "..        ...           ...       ...       ...        ...    ...       ...   \n",
              "859       100           0.1         4         5          1      5  0.997809   \n",
              "860       100           0.1         4         5          1     10  0.998539   \n",
              "861       100           0.1         4         5          5      1  0.980039   \n",
              "862       100           0.1         4         5          5      5  0.997566   \n",
              "863       100           0.1         4         5          5     10   0.99789   \n",
              "\n",
              "    AUC Test1 AUC Test2  \n",
              "0    0.529533  0.467391  \n",
              "1         0.5  0.532609  \n",
              "2    0.535714       0.5  \n",
              "3    0.529533  0.467391  \n",
              "4         0.5  0.445652  \n",
              "..        ...       ...  \n",
              "859  0.445055  0.352657  \n",
              "860  0.418956  0.332126  \n",
              "861  0.503434  0.331522  \n",
              "862  0.457418  0.350242  \n",
              "863  0.445055  0.342995  \n",
              "\n",
              "[864 rows x 9 columns]"
            ],
            "text/html": [
              "\n",
              "  <div id=\"df-1ec87170-b7dd-4d1a-b67c-bac131ad3e9f\" class=\"colab-df-container\">\n",
              "    <div>\n",
              "<style scoped>\n",
              "    .dataframe tbody tr th:only-of-type {\n",
              "        vertical-align: middle;\n",
              "    }\n",
              "\n",
              "    .dataframe tbody tr th {\n",
              "        vertical-align: top;\n",
              "    }\n",
              "\n",
              "    .dataframe thead th {\n",
              "        text-align: right;\n",
              "    }\n",
              "</style>\n",
              "<table border=\"1\" class=\"dataframe\">\n",
              "  <thead>\n",
              "    <tr style=\"text-align: right;\">\n",
              "      <th></th>\n",
              "      <th>Num Trees</th>\n",
              "      <th>Learning Rate</th>\n",
              "      <th>max_depth</th>\n",
              "      <th>Reg Alpha</th>\n",
              "      <th>Reg Lambda</th>\n",
              "      <th>Weight</th>\n",
              "      <th>AUC Train</th>\n",
              "      <th>AUC Test1</th>\n",
              "      <th>AUC Test2</th>\n",
              "    </tr>\n",
              "  </thead>\n",
              "  <tbody>\n",
              "    <tr>\n",
              "      <th>0</th>\n",
              "      <td>20</td>\n",
              "      <td>0.001</td>\n",
              "      <td>3</td>\n",
              "      <td>0</td>\n",
              "      <td>0</td>\n",
              "      <td>1</td>\n",
              "      <td>0.877637</td>\n",
              "      <td>0.529533</td>\n",
              "      <td>0.467391</td>\n",
              "    </tr>\n",
              "    <tr>\n",
              "      <th>1</th>\n",
              "      <td>20</td>\n",
              "      <td>0.001</td>\n",
              "      <td>3</td>\n",
              "      <td>0</td>\n",
              "      <td>0</td>\n",
              "      <td>5</td>\n",
              "      <td>0.888105</td>\n",
              "      <td>0.5</td>\n",
              "      <td>0.532609</td>\n",
              "    </tr>\n",
              "    <tr>\n",
              "      <th>2</th>\n",
              "      <td>20</td>\n",
              "      <td>0.001</td>\n",
              "      <td>3</td>\n",
              "      <td>0</td>\n",
              "      <td>0</td>\n",
              "      <td>10</td>\n",
              "      <td>0.775438</td>\n",
              "      <td>0.535714</td>\n",
              "      <td>0.5</td>\n",
              "    </tr>\n",
              "    <tr>\n",
              "      <th>3</th>\n",
              "      <td>20</td>\n",
              "      <td>0.001</td>\n",
              "      <td>3</td>\n",
              "      <td>0</td>\n",
              "      <td>0.1</td>\n",
              "      <td>1</td>\n",
              "      <td>0.87715</td>\n",
              "      <td>0.529533</td>\n",
              "      <td>0.467391</td>\n",
              "    </tr>\n",
              "    <tr>\n",
              "      <th>4</th>\n",
              "      <td>20</td>\n",
              "      <td>0.001</td>\n",
              "      <td>3</td>\n",
              "      <td>0</td>\n",
              "      <td>0.1</td>\n",
              "      <td>5</td>\n",
              "      <td>0.888105</td>\n",
              "      <td>0.5</td>\n",
              "      <td>0.445652</td>\n",
              "    </tr>\n",
              "    <tr>\n",
              "      <th>...</th>\n",
              "      <td>...</td>\n",
              "      <td>...</td>\n",
              "      <td>...</td>\n",
              "      <td>...</td>\n",
              "      <td>...</td>\n",
              "      <td>...</td>\n",
              "      <td>...</td>\n",
              "      <td>...</td>\n",
              "      <td>...</td>\n",
              "    </tr>\n",
              "    <tr>\n",
              "      <th>859</th>\n",
              "      <td>100</td>\n",
              "      <td>0.1</td>\n",
              "      <td>4</td>\n",
              "      <td>5</td>\n",
              "      <td>1</td>\n",
              "      <td>5</td>\n",
              "      <td>0.997809</td>\n",
              "      <td>0.445055</td>\n",
              "      <td>0.352657</td>\n",
              "    </tr>\n",
              "    <tr>\n",
              "      <th>860</th>\n",
              "      <td>100</td>\n",
              "      <td>0.1</td>\n",
              "      <td>4</td>\n",
              "      <td>5</td>\n",
              "      <td>1</td>\n",
              "      <td>10</td>\n",
              "      <td>0.998539</td>\n",
              "      <td>0.418956</td>\n",
              "      <td>0.332126</td>\n",
              "    </tr>\n",
              "    <tr>\n",
              "      <th>861</th>\n",
              "      <td>100</td>\n",
              "      <td>0.1</td>\n",
              "      <td>4</td>\n",
              "      <td>5</td>\n",
              "      <td>5</td>\n",
              "      <td>1</td>\n",
              "      <td>0.980039</td>\n",
              "      <td>0.503434</td>\n",
              "      <td>0.331522</td>\n",
              "    </tr>\n",
              "    <tr>\n",
              "      <th>862</th>\n",
              "      <td>100</td>\n",
              "      <td>0.1</td>\n",
              "      <td>4</td>\n",
              "      <td>5</td>\n",
              "      <td>5</td>\n",
              "      <td>5</td>\n",
              "      <td>0.997566</td>\n",
              "      <td>0.457418</td>\n",
              "      <td>0.350242</td>\n",
              "    </tr>\n",
              "    <tr>\n",
              "      <th>863</th>\n",
              "      <td>100</td>\n",
              "      <td>0.1</td>\n",
              "      <td>4</td>\n",
              "      <td>5</td>\n",
              "      <td>5</td>\n",
              "      <td>10</td>\n",
              "      <td>0.99789</td>\n",
              "      <td>0.445055</td>\n",
              "      <td>0.342995</td>\n",
              "    </tr>\n",
              "  </tbody>\n",
              "</table>\n",
              "<p>864 rows × 9 columns</p>\n",
              "</div>\n",
              "    <div class=\"colab-df-buttons\">\n",
              "\n",
              "  <div class=\"colab-df-container\">\n",
              "    <button class=\"colab-df-convert\" onclick=\"convertToInteractive('df-1ec87170-b7dd-4d1a-b67c-bac131ad3e9f')\"\n",
              "            title=\"Convert this dataframe to an interactive table.\"\n",
              "            style=\"display:none;\">\n",
              "\n",
              "  <svg xmlns=\"http://www.w3.org/2000/svg\" height=\"24px\" viewBox=\"0 -960 960 960\">\n",
              "    <path d=\"M120-120v-720h720v720H120Zm60-500h600v-160H180v160Zm220 220h160v-160H400v160Zm0 220h160v-160H400v160ZM180-400h160v-160H180v160Zm440 0h160v-160H620v160ZM180-180h160v-160H180v160Zm440 0h160v-160H620v160Z\"/>\n",
              "  </svg>\n",
              "    </button>\n",
              "\n",
              "  <style>\n",
              "    .colab-df-container {\n",
              "      display:flex;\n",
              "      gap: 12px;\n",
              "    }\n",
              "\n",
              "    .colab-df-convert {\n",
              "      background-color: #E8F0FE;\n",
              "      border: none;\n",
              "      border-radius: 50%;\n",
              "      cursor: pointer;\n",
              "      display: none;\n",
              "      fill: #1967D2;\n",
              "      height: 32px;\n",
              "      padding: 0 0 0 0;\n",
              "      width: 32px;\n",
              "    }\n",
              "\n",
              "    .colab-df-convert:hover {\n",
              "      background-color: #E2EBFA;\n",
              "      box-shadow: 0px 1px 2px rgba(60, 64, 67, 0.3), 0px 1px 3px 1px rgba(60, 64, 67, 0.15);\n",
              "      fill: #174EA6;\n",
              "    }\n",
              "\n",
              "    .colab-df-buttons div {\n",
              "      margin-bottom: 4px;\n",
              "    }\n",
              "\n",
              "    [theme=dark] .colab-df-convert {\n",
              "      background-color: #3B4455;\n",
              "      fill: #D2E3FC;\n",
              "    }\n",
              "\n",
              "    [theme=dark] .colab-df-convert:hover {\n",
              "      background-color: #434B5C;\n",
              "      box-shadow: 0px 1px 3px 1px rgba(0, 0, 0, 0.15);\n",
              "      filter: drop-shadow(0px 1px 2px rgba(0, 0, 0, 0.3));\n",
              "      fill: #FFFFFF;\n",
              "    }\n",
              "  </style>\n",
              "\n",
              "    <script>\n",
              "      const buttonEl =\n",
              "        document.querySelector('#df-1ec87170-b7dd-4d1a-b67c-bac131ad3e9f button.colab-df-convert');\n",
              "      buttonEl.style.display =\n",
              "        google.colab.kernel.accessAllowed ? 'block' : 'none';\n",
              "\n",
              "      async function convertToInteractive(key) {\n",
              "        const element = document.querySelector('#df-1ec87170-b7dd-4d1a-b67c-bac131ad3e9f');\n",
              "        const dataTable =\n",
              "          await google.colab.kernel.invokeFunction('convertToInteractive',\n",
              "                                                    [key], {});\n",
              "        if (!dataTable) return;\n",
              "\n",
              "        const docLinkHtml = 'Like what you see? Visit the ' +\n",
              "          '<a target=\"_blank\" href=https://colab.research.google.com/notebooks/data_table.ipynb>data table notebook</a>'\n",
              "          + ' to learn more about interactive tables.';\n",
              "        element.innerHTML = '';\n",
              "        dataTable['output_type'] = 'display_data';\n",
              "        await google.colab.output.renderOutput(dataTable, element);\n",
              "        const docLink = document.createElement('div');\n",
              "        docLink.innerHTML = docLinkHtml;\n",
              "        element.appendChild(docLink);\n",
              "      }\n",
              "    </script>\n",
              "  </div>\n",
              "\n",
              "\n",
              "<div id=\"df-c2ee1442-8a1f-470b-a16a-5c93101fe046\">\n",
              "  <button class=\"colab-df-quickchart\" onclick=\"quickchart('df-c2ee1442-8a1f-470b-a16a-5c93101fe046')\"\n",
              "            title=\"Suggest charts\"\n",
              "            style=\"display:none;\">\n",
              "\n",
              "<svg xmlns=\"http://www.w3.org/2000/svg\" height=\"24px\"viewBox=\"0 0 24 24\"\n",
              "     width=\"24px\">\n",
              "    <g>\n",
              "        <path d=\"M19 3H5c-1.1 0-2 .9-2 2v14c0 1.1.9 2 2 2h14c1.1 0 2-.9 2-2V5c0-1.1-.9-2-2-2zM9 17H7v-7h2v7zm4 0h-2V7h2v10zm4 0h-2v-4h2v4z\"/>\n",
              "    </g>\n",
              "</svg>\n",
              "  </button>\n",
              "\n",
              "<style>\n",
              "  .colab-df-quickchart {\n",
              "      --bg-color: #E8F0FE;\n",
              "      --fill-color: #1967D2;\n",
              "      --hover-bg-color: #E2EBFA;\n",
              "      --hover-fill-color: #174EA6;\n",
              "      --disabled-fill-color: #AAA;\n",
              "      --disabled-bg-color: #DDD;\n",
              "  }\n",
              "\n",
              "  [theme=dark] .colab-df-quickchart {\n",
              "      --bg-color: #3B4455;\n",
              "      --fill-color: #D2E3FC;\n",
              "      --hover-bg-color: #434B5C;\n",
              "      --hover-fill-color: #FFFFFF;\n",
              "      --disabled-bg-color: #3B4455;\n",
              "      --disabled-fill-color: #666;\n",
              "  }\n",
              "\n",
              "  .colab-df-quickchart {\n",
              "    background-color: var(--bg-color);\n",
              "    border: none;\n",
              "    border-radius: 50%;\n",
              "    cursor: pointer;\n",
              "    display: none;\n",
              "    fill: var(--fill-color);\n",
              "    height: 32px;\n",
              "    padding: 0;\n",
              "    width: 32px;\n",
              "  }\n",
              "\n",
              "  .colab-df-quickchart:hover {\n",
              "    background-color: var(--hover-bg-color);\n",
              "    box-shadow: 0 1px 2px rgba(60, 64, 67, 0.3), 0 1px 3px 1px rgba(60, 64, 67, 0.15);\n",
              "    fill: var(--button-hover-fill-color);\n",
              "  }\n",
              "\n",
              "  .colab-df-quickchart-complete:disabled,\n",
              "  .colab-df-quickchart-complete:disabled:hover {\n",
              "    background-color: var(--disabled-bg-color);\n",
              "    fill: var(--disabled-fill-color);\n",
              "    box-shadow: none;\n",
              "  }\n",
              "\n",
              "  .colab-df-spinner {\n",
              "    border: 2px solid var(--fill-color);\n",
              "    border-color: transparent;\n",
              "    border-bottom-color: var(--fill-color);\n",
              "    animation:\n",
              "      spin 1s steps(1) infinite;\n",
              "  }\n",
              "\n",
              "  @keyframes spin {\n",
              "    0% {\n",
              "      border-color: transparent;\n",
              "      border-bottom-color: var(--fill-color);\n",
              "      border-left-color: var(--fill-color);\n",
              "    }\n",
              "    20% {\n",
              "      border-color: transparent;\n",
              "      border-left-color: var(--fill-color);\n",
              "      border-top-color: var(--fill-color);\n",
              "    }\n",
              "    30% {\n",
              "      border-color: transparent;\n",
              "      border-left-color: var(--fill-color);\n",
              "      border-top-color: var(--fill-color);\n",
              "      border-right-color: var(--fill-color);\n",
              "    }\n",
              "    40% {\n",
              "      border-color: transparent;\n",
              "      border-right-color: var(--fill-color);\n",
              "      border-top-color: var(--fill-color);\n",
              "    }\n",
              "    60% {\n",
              "      border-color: transparent;\n",
              "      border-right-color: var(--fill-color);\n",
              "    }\n",
              "    80% {\n",
              "      border-color: transparent;\n",
              "      border-right-color: var(--fill-color);\n",
              "      border-bottom-color: var(--fill-color);\n",
              "    }\n",
              "    90% {\n",
              "      border-color: transparent;\n",
              "      border-bottom-color: var(--fill-color);\n",
              "    }\n",
              "  }\n",
              "</style>\n",
              "\n",
              "  <script>\n",
              "    async function quickchart(key) {\n",
              "      const quickchartButtonEl =\n",
              "        document.querySelector('#' + key + ' button');\n",
              "      quickchartButtonEl.disabled = true;  // To prevent multiple clicks.\n",
              "      quickchartButtonEl.classList.add('colab-df-spinner');\n",
              "      try {\n",
              "        const charts = await google.colab.kernel.invokeFunction(\n",
              "            'suggestCharts', [key], {});\n",
              "      } catch (error) {\n",
              "        console.error('Error during call to suggestCharts:', error);\n",
              "      }\n",
              "      quickchartButtonEl.classList.remove('colab-df-spinner');\n",
              "      quickchartButtonEl.classList.add('colab-df-quickchart-complete');\n",
              "    }\n",
              "    (() => {\n",
              "      let quickchartButtonEl =\n",
              "        document.querySelector('#df-c2ee1442-8a1f-470b-a16a-5c93101fe046 button');\n",
              "      quickchartButtonEl.style.display =\n",
              "        google.colab.kernel.accessAllowed ? 'block' : 'none';\n",
              "    })();\n",
              "  </script>\n",
              "</div>\n",
              "\n",
              "  <div id=\"id_ed26a673-4694-4480-949a-683134e3a073\">\n",
              "    <style>\n",
              "      .colab-df-generate {\n",
              "        background-color: #E8F0FE;\n",
              "        border: none;\n",
              "        border-radius: 50%;\n",
              "        cursor: pointer;\n",
              "        display: none;\n",
              "        fill: #1967D2;\n",
              "        height: 32px;\n",
              "        padding: 0 0 0 0;\n",
              "        width: 32px;\n",
              "      }\n",
              "\n",
              "      .colab-df-generate:hover {\n",
              "        background-color: #E2EBFA;\n",
              "        box-shadow: 0px 1px 2px rgba(60, 64, 67, 0.3), 0px 1px 3px 1px rgba(60, 64, 67, 0.15);\n",
              "        fill: #174EA6;\n",
              "      }\n",
              "\n",
              "      [theme=dark] .colab-df-generate {\n",
              "        background-color: #3B4455;\n",
              "        fill: #D2E3FC;\n",
              "      }\n",
              "\n",
              "      [theme=dark] .colab-df-generate:hover {\n",
              "        background-color: #434B5C;\n",
              "        box-shadow: 0px 1px 3px 1px rgba(0, 0, 0, 0.15);\n",
              "        filter: drop-shadow(0px 1px 2px rgba(0, 0, 0, 0.3));\n",
              "        fill: #FFFFFF;\n",
              "      }\n",
              "    </style>\n",
              "    <button class=\"colab-df-generate\" onclick=\"generateWithVariable('table')\"\n",
              "            title=\"Generate code using this dataframe.\"\n",
              "            style=\"display:none;\">\n",
              "\n",
              "  <svg xmlns=\"http://www.w3.org/2000/svg\" height=\"24px\"viewBox=\"0 0 24 24\"\n",
              "       width=\"24px\">\n",
              "    <path d=\"M7,19H8.4L18.45,9,17,7.55,7,17.6ZM5,21V16.75L18.45,3.32a2,2,0,0,1,2.83,0l1.4,1.43a1.91,1.91,0,0,1,.58,1.4,1.91,1.91,0,0,1-.58,1.4L9.25,21ZM18.45,9,17,7.55Zm-12,3A5.31,5.31,0,0,0,4.9,8.1,5.31,5.31,0,0,0,1,6.5,5.31,5.31,0,0,0,4.9,4.9,5.31,5.31,0,0,0,6.5,1,5.31,5.31,0,0,0,8.1,4.9,5.31,5.31,0,0,0,12,6.5,5.46,5.46,0,0,0,6.5,12Z\"/>\n",
              "  </svg>\n",
              "    </button>\n",
              "    <script>\n",
              "      (() => {\n",
              "      const buttonEl =\n",
              "        document.querySelector('#id_ed26a673-4694-4480-949a-683134e3a073 button.colab-df-generate');\n",
              "      buttonEl.style.display =\n",
              "        google.colab.kernel.accessAllowed ? 'block' : 'none';\n",
              "\n",
              "      buttonEl.onclick = () => {\n",
              "        google.colab.notebook.generateWithVariable('table');\n",
              "      }\n",
              "      })();\n",
              "    </script>\n",
              "  </div>\n",
              "\n",
              "    </div>\n",
              "  </div>\n"
            ],
            "application/vnd.google.colaboratory.intrinsic+json": {
              "type": "dataframe",
              "variable_name": "table",
              "summary": "{\n  \"name\": \"table\",\n  \"rows\": 864,\n  \"fields\": [\n    {\n      \"column\": \"Num Trees\",\n      \"properties\": {\n        \"dtype\": \"date\",\n        \"min\": 20,\n        \"max\": 100,\n        \"num_unique_values\": 3,\n        \"samples\": [\n          20,\n          50,\n          100\n        ],\n        \"semantic_type\": \"\",\n        \"description\": \"\"\n      }\n    },\n    {\n      \"column\": \"Learning Rate\",\n      \"properties\": {\n        \"dtype\": \"date\",\n        \"min\": 0.001,\n        \"max\": 0.1,\n        \"num_unique_values\": 3,\n        \"samples\": [\n          0.001,\n          0.01,\n          0.1\n        ],\n        \"semantic_type\": \"\",\n        \"description\": \"\"\n      }\n    },\n    {\n      \"column\": \"max_depth\",\n      \"properties\": {\n        \"dtype\": \"date\",\n        \"min\": 3,\n        \"max\": 4,\n        \"num_unique_values\": 2,\n        \"samples\": [\n          4,\n          3\n        ],\n        \"semantic_type\": \"\",\n        \"description\": \"\"\n      }\n    },\n    {\n      \"column\": \"Reg Alpha\",\n      \"properties\": {\n        \"dtype\": \"date\",\n        \"min\": 0,\n        \"max\": 5,\n        \"num_unique_values\": 4,\n        \"samples\": [\n          0.1,\n          5\n        ],\n        \"semantic_type\": \"\",\n        \"description\": \"\"\n      }\n    },\n    {\n      \"column\": \"Reg Lambda\",\n      \"properties\": {\n        \"dtype\": \"date\",\n        \"min\": 0,\n        \"max\": 5,\n        \"num_unique_values\": 4,\n        \"samples\": [\n          0.1,\n          5\n        ],\n        \"semantic_type\": \"\",\n        \"description\": \"\"\n      }\n    },\n    {\n      \"column\": \"Weight\",\n      \"properties\": {\n        \"dtype\": \"date\",\n        \"min\": 1,\n        \"max\": 10,\n        \"num_unique_values\": 3,\n        \"samples\": [\n          1,\n          5\n        ],\n        \"semantic_type\": \"\",\n        \"description\": \"\"\n      }\n    },\n    {\n      \"column\": \"AUC Train\",\n      \"properties\": {\n        \"dtype\": \"date\",\n        \"min\": 0.7754381694255111,\n        \"max\": 1.0,\n        \"num_unique_values\": 571,\n        \"samples\": [\n          0.9627150275884454,\n          0.9212512171372931\n        ],\n        \"semantic_type\": \"\",\n        \"description\": \"\"\n      }\n    },\n    {\n      \"column\": \"AUC Test1\",\n      \"properties\": {\n        \"dtype\": \"date\",\n        \"min\": 0.29395604395604397,\n        \"max\": 0.6160714285714286,\n        \"num_unique_values\": 337,\n        \"samples\": [\n          0.5728021978021979,\n          0.5913461538461539\n        ],\n        \"semantic_type\": \"\",\n        \"description\": \"\"\n      }\n    },\n    {\n      \"column\": \"AUC Test2\",\n      \"properties\": {\n        \"dtype\": \"date\",\n        \"min\": 0.2300724637681159,\n        \"max\": 0.5483091787439613,\n        \"num_unique_values\": 326,\n        \"samples\": [\n          0.32306763285024154,\n          0.26570048309178745\n        ],\n        \"semantic_type\": \"\",\n        \"description\": \"\"\n      }\n    }\n  ]\n}"
            }
          },
          "metadata": {},
          "execution_count": 35
        }
      ]
    },
    {
      "cell_type": "code",
      "source": [
        "plt.figure(facecolor='none')\n",
        "plt.scatter(table[\"AUC Train\"], table[\"AUC Test1\"])\n",
        "plt.xlabel(\"Training AUC\")\n",
        "plt.ylabel(\"Test1 AUC\")\n",
        "plt.show()"
      ],
      "metadata": {
        "colab": {
          "base_uri": "https://localhost:8080/",
          "height": 449
        },
        "id": "uhjz2aZc6NlV",
        "outputId": "778f0bdf-7e48-4548-95c4-2ea61bc42aa1"
      },
      "execution_count": null,
      "outputs": [
        {
          "output_type": "display_data",
          "data": {
            "text/plain": [
              "<Figure size 640x480 with 1 Axes>"
            ],
            "image/png": "[encoded data removed]"
          },
          "metadata": {
            "needs_background": "light"
          }
        }
      ]
    },
    {
      "cell_type": "code",
      "source": [
        "plt.figure(facecolor='none')\n",
        "plt.scatter(table[\"AUC Train\"], table[\"AUC Test2\"])\n",
        "plt.xlabel(\"Training AUC\")\n",
        "plt.ylabel(\"Test2 AUC\")\n",
        "plt.show()"
      ],
      "metadata": {
        "colab": {
          "base_uri": "https://localhost:8080/",
          "height": 449
        },
        "id": "Sm6NQhWH6U81",
        "outputId": "45c491aa-a18c-4494-9df5-6660c9dc8213"
      },
      "execution_count": null,
      "outputs": [
        {
          "output_type": "display_data",
          "data": {
            "text/plain": [
              "<Figure size 640x480 with 1 Axes>"
            ],
            "image/png": "[encoded data removed]"
          },
          "metadata": {
            "needs_background": "light"
          }
        }
      ]
    },
    {
      "cell_type": "markdown",
      "source": [
        "# Now creating the Dataframe combined of all the assets."
      ],
      "metadata": {
        "id": "pYwveCbKrgyW"
      }
    },
    {
      "cell_type": "code",
      "source": [
        "final_assets_df= bitcoin_df[top_features]"
      ],
      "metadata": {
        "id": "XNy2DSmdjLGk"
      },
      "execution_count": null,
      "outputs": []
    },
    {
      "cell_type": "code",
      "source": [
        "#  create a target column in final_bitcoin_df and copy the values from bitcoin_df 's target column into it\n",
        "\n",
        "final_assets_df['target'] = bitcoin_df['target'].copy()\n"
      ],
      "metadata": {
        "id": "YO-KMRMnmw5c"
      },
      "execution_count": null,
      "outputs": []
    },
    {
      "cell_type": "markdown",
      "source": [
        "# Notice that data for other assts is less compared to bitcoin based on the Dataframe shape."
      ],
      "metadata": {
        "id": "OPt81ni90Da3"
      }
    },
    {
      "cell_type": "code",
      "source": [
        "print(sp500_df.shape)\n",
        "print(sp400_df.shape)\n",
        "print(russell2000_df.shape)\n",
        "print(vix_df.shape)\n",
        "print(spgcci_df.shape)"
      ],
      "metadata": {
        "colab": {
          "base_uri": "https://localhost:8080/"
        },
        "id": "JM1_0YpbnPc5",
        "outputId": "e57c4481-278a-4525-f335-baeec7e542be"
      },
      "execution_count": null,
      "outputs": [
        {
          "output_type": "stream",
          "name": "stdout",
          "text": [
            "(290, 6)\n",
            "(290, 6)\n",
            "(290, 6)\n",
            "(290, 6)\n",
            "(290, 6)\n"
          ]
        }
      ]
    },
    {
      "cell_type": "markdown",
      "source": [
        "# Now making a function that will calculate features for all the other assets."
      ],
      "metadata": {
        "id": "nGCoouLlnZfx"
      }
    },
    {
      "cell_type": "code",
      "source": [
        "from scipy.stats import linregress\n",
        "def calculate_features(df):\n",
        "    # Basic calculations\n",
        "    df['daily_returns'] = df['Close'].pct_change()\n",
        "\n",
        "    # Moving Averages, Exponential Moving Averages, and Volatility\n",
        "    for window in [3, 9, 12, 15, 30]:\n",
        "        df[f'MA_returns_{window}'] = df['daily_returns'].rolling(window=window).mean()\n",
        "        df[f'Volatility_returns_{window}'] = df['daily_returns'].rolling(window=window).std()\n",
        "        df[f'EWMA_returns_{window}'] = df['daily_returns'].ewm(span=window).mean()\n",
        "\n",
        "    # Differences in MAs and EWMAs\n",
        "    for window1, window2 in [(9, 3), (12, 9), (12, 3), (15, 12), (15, 30)]:\n",
        "        df[f\"MA_diff_{window1}_{window2}\"] = df[f\"MA_returns_{window1}\"] - df[f\"MA_returns_{window2}\"]\n",
        "        df[f\"EWMA_diff_{window1}_{window2}\"] = df[f\"EWMA_returns_{window1}\"] - df[f\"EWMA_returns_{window2}\"]\n",
        "\n",
        "    # Trend Features\n",
        "    df['trend_15_days'] = df['daily_returns'].rolling(window=15).apply(lambda x: linregress(np.arange(len(x)), x).slope, raw=False)\n",
        "\n",
        "    # Technical Indicators\n",
        "    df['RSI'] = talib.RSI(df['Close'], timeperiod=7)\n",
        "    df['MACD'], df['MACD_signal'], df['MACD_hist'] = talib.MACD(df['Close'], fastperiod=5, slowperiod=10, signalperiod=5)\n",
        "    df['BB_upper'], df['BB_middle'], df['BB_lower'] = talib.BBANDS(df['Close'], timeperiod=10, nbdevup=2, nbdevdn=2, matype=0)\n",
        "    df['ATR'] = talib.ATR(df['High'], df['Low'], df['Close'], timeperiod=7)\n",
        "    df['stoch_k'], df['stoch_d'] = talib.STOCH(df['High'], df['Low'], df['Close'], fastk_period=7, slowk_period=3, slowk_matype=0, slowd_period=3, slowd_matype=0)\n",
        "    df['OBV'] = talib.OBV(df['Close'], df['Volume'])\n",
        "    df['SAR'] = talib.SAR(df['High'], df['Low'], acceleration=0.02, maximum=0.2)\n",
        "    df['CCI'] = talib.CCI(df['High'], df['Low'], df['Close'], timeperiod=7)\n",
        "    df['ADL'] = talib.AD(df['High'], df['Low'], df['Close'], df['Volume'])\n",
        "    df['MOM'] = talib.MOM(df['Close'], timeperiod=5)\n",
        "\n",
        "\n",
        "    return df\n",
        "\n",
        "\n",
        "\n"
      ],
      "metadata": {
        "id": "GPA0Q_Zfr8TY"
      },
      "execution_count": null,
      "outputs": []
    },
    {
      "cell_type": "markdown",
      "source": [
        "# Using the created function to calculate the new features for all the assets"
      ],
      "metadata": {
        "id": "QX1wYsMdzcT3"
      }
    },
    {
      "cell_type": "code",
      "source": [
        "sp500_df_features= calculate_features(sp500_df)\n",
        "sp400_df_features= calculate_features(sp400_df)\n",
        "russell2000_df_features= calculate_features(russell2000_df)\n",
        "vix_df_features= calculate_features(vix_df)\n",
        "spgcci_df_features= calculate_features(spgcci_df)"
      ],
      "metadata": {
        "id": "exDe3pbku_mG"
      },
      "execution_count": null,
      "outputs": []
    },
    {
      "cell_type": "code",
      "source": [
        "sp500_df_features.head()"
      ],
      "metadata": {
        "id": "1XUEvgBbvOlx",
        "colab": {
          "base_uri": "https://localhost:8080/",
          "height": 369
        },
        "outputId": "897bc561-0bbf-41bb-b432-11484c43f1bb"
      },
      "execution_count": null,
      "outputs": [
        {
          "output_type": "execute_result",
          "data": {
            "text/plain": [
              "                   Open         High          Low        Close    Adj Close  \\\n",
              "Date                                                                          \n",
              "2023-01-03  3853.290039  3878.459961  3794.330078  3824.139893  3824.139893   \n",
              "2023-01-04  3840.360107  3873.159912  3815.770020  3852.969971  3852.969971   \n",
              "2023-01-05  3839.739990  3839.739990  3802.419922  3808.100098  3808.100098   \n",
              "2023-01-06  3823.370117  3906.189941  3809.560059  3895.080078  3895.080078   \n",
              "2023-01-09  3910.820068  3950.570068  3890.419922  3892.090088  3892.090088   \n",
              "\n",
              "                Volume  daily_returns  MA_returns_3  Volatility_returns_3  \\\n",
              "Date                                                                        \n",
              "2023-01-03  3959140000            NaN           NaN                   NaN   \n",
              "2023-01-04  4414080000       0.007539           NaN                   NaN   \n",
              "2023-01-05  3893450000      -0.011646           NaN                   NaN   \n",
              "2023-01-06  3923560000       0.022841      0.006245               0.01728   \n",
              "2023-01-09  4311770000      -0.000768      0.003476               0.01763   \n",
              "\n",
              "            EWMA_returns_3  ...  BB_middle  BB_lower  ATR  stoch_k  stoch_d  \\\n",
              "Date                        ...                                               \n",
              "2023-01-03             NaN  ...        NaN       NaN  NaN      NaN      NaN   \n",
              "2023-01-04        0.007539  ...        NaN       NaN  NaN      NaN      NaN   \n",
              "2023-01-05       -0.005251  ...        NaN       NaN  NaN      NaN      NaN   \n",
              "2023-01-06        0.010802  ...        NaN       NaN  NaN      NaN      NaN   \n",
              "2023-01-09        0.004631  ...        NaN       NaN  NaN      NaN      NaN   \n",
              "\n",
              "                     OBV          SAR  CCI           ADL  MOM  \n",
              "Date                                                           \n",
              "2023-01-03  3.959140e+09          NaN  NaN -1.153449e+09  NaN  \n",
              "2023-01-04  8.373220e+09  3794.330078  NaN  1.548571e+08  NaN  \n",
              "2023-01-05  4.479770e+09  3795.906675  NaN -2.553414e+09  NaN  \n",
              "2023-01-06  8.403330e+09  3797.451740  NaN  4.679362e+08  NaN  \n",
              "2023-01-09  4.091560e+09  3801.801268  NaN -3.604387e+09  NaN  \n",
              "\n",
              "[5 rows x 48 columns]"
            ],
            "text/html": [
              "\n",
              "  <div id=\"df-5044df77-e665-42fb-8838-3c859fc47f23\" class=\"colab-df-container\">\n",
              "    <div>\n",
              "<style scoped>\n",
              "    .dataframe tbody tr th:only-of-type {\n",
              "        vertical-align: middle;\n",
              "    }\n",
              "\n",
              "    .dataframe tbody tr th {\n",
              "        vertical-align: top;\n",
              "    }\n",
              "\n",
              "    .dataframe thead th {\n",
              "        text-align: right;\n",
              "    }\n",
              "</style>\n",
              "<table border=\"1\" class=\"dataframe\">\n",
              "  <thead>\n",
              "    <tr style=\"text-align: right;\">\n",
              "      <th></th>\n",
              "      <th>Open</th>\n",
              "      <th>High</th>\n",
              "      <th>Low</th>\n",
              "      <th>Close</th>\n",
              "      <th>Adj Close</th>\n",
              "      <th>Volume</th>\n",
              "      <th>daily_returns</th>\n",
              "      <th>MA_returns_3</th>\n",
              "      <th>Volatility_returns_3</th>\n",
              "      <th>EWMA_returns_3</th>\n",
              "      <th>...</th>\n",
              "      <th>BB_middle</th>\n",
              "      <th>BB_lower</th>\n",
              "      <th>ATR</th>\n",
              "      <th>stoch_k</th>\n",
              "      <th>stoch_d</th>\n",
              "      <th>OBV</th>\n",
              "      <th>SAR</th>\n",
              "      <th>CCI</th>\n",
              "      <th>ADL</th>\n",
              "      <th>MOM</th>\n",
              "    </tr>\n",
              "    <tr>\n",
              "      <th>Date</th>\n",
              "      <th></th>\n",
              "      <th></th>\n",
              "      <th></th>\n",
              "      <th></th>\n",
              "      <th></th>\n",
              "      <th></th>\n",
              "      <th></th>\n",
              "      <th></th>\n",
              "      <th></th>\n",
              "      <th></th>\n",
              "      <th></th>\n",
              "      <th></th>\n",
              "      <th></th>\n",
              "      <th></th>\n",
              "      <th></th>\n",
              "      <th></th>\n",
              "      <th></th>\n",
              "      <th></th>\n",
              "      <th></th>\n",
              "      <th></th>\n",
              "      <th></th>\n",
              "    </tr>\n",
              "  </thead>\n",
              "  <tbody>\n",
              "    <tr>\n",
              "      <th>2023-01-03</th>\n",
              "      <td>3853.290039</td>\n",
              "      <td>3878.459961</td>\n",
              "      <td>3794.330078</td>\n",
              "      <td>3824.139893</td>\n",
              "      <td>3824.139893</td>\n",
              "      <td>3959140000</td>\n",
              "      <td>NaN</td>\n",
              "      <td>NaN</td>\n",
              "      <td>NaN</td>\n",
              "      <td>NaN</td>\n",
              "      <td>...</td>\n",
              "      <td>NaN</td>\n",
              "      <td>NaN</td>\n",
              "      <td>NaN</td>\n",
              "      <td>NaN</td>\n",
              "      <td>NaN</td>\n",
              "      <td>3.959140e+09</td>\n",
              "      <td>NaN</td>\n",
              "      <td>NaN</td>\n",
              "      <td>-1.153449e+09</td>\n",
              "      <td>NaN</td>\n",
              "    </tr>\n",
              "    <tr>\n",
              "      <th>2023-01-04</th>\n",
              "      <td>3840.360107</td>\n",
              "      <td>3873.159912</td>\n",
              "      <td>3815.770020</td>\n",
              "      <td>3852.969971</td>\n",
              "      <td>3852.969971</td>\n",
              "      <td>4414080000</td>\n",
              "      <td>0.007539</td>\n",
              "      <td>NaN</td>\n",
              "      <td>NaN</td>\n",
              "      <td>0.007539</td>\n",
              "      <td>...</td>\n",
              "      <td>NaN</td>\n",
              "      <td>NaN</td>\n",
              "      <td>NaN</td>\n",
              "      <td>NaN</td>\n",
              "      <td>NaN</td>\n",
              "      <td>8.373220e+09</td>\n",
              "      <td>3794.330078</td>\n",
              "      <td>NaN</td>\n",
              "      <td>1.548571e+08</td>\n",
              "      <td>NaN</td>\n",
              "    </tr>\n",
              "    <tr>\n",
              "      <th>2023-01-05</th>\n",
              "      <td>3839.739990</td>\n",
              "      <td>3839.739990</td>\n",
              "      <td>3802.419922</td>\n",
              "      <td>3808.100098</td>\n",
              "      <td>3808.100098</td>\n",
              "      <td>3893450000</td>\n",
              "      <td>-0.011646</td>\n",
              "      <td>NaN</td>\n",
              "      <td>NaN</td>\n",
              "      <td>-0.005251</td>\n",
              "      <td>...</td>\n",
              "      <td>NaN</td>\n",
              "      <td>NaN</td>\n",
              "      <td>NaN</td>\n",
              "      <td>NaN</td>\n",
              "      <td>NaN</td>\n",
              "      <td>4.479770e+09</td>\n",
              "      <td>3795.906675</td>\n",
              "      <td>NaN</td>\n",
              "      <td>-2.553414e+09</td>\n",
              "      <td>NaN</td>\n",
              "    </tr>\n",
              "    <tr>\n",
              "      <th>2023-01-06</th>\n",
              "      <td>3823.370117</td>\n",
              "      <td>3906.189941</td>\n",
              "      <td>3809.560059</td>\n",
              "      <td>3895.080078</td>\n",
              "      <td>3895.080078</td>\n",
              "      <td>3923560000</td>\n",
              "      <td>0.022841</td>\n",
              "      <td>0.006245</td>\n",
              "      <td>0.01728</td>\n",
              "      <td>0.010802</td>\n",
              "      <td>...</td>\n",
              "      <td>NaN</td>\n",
              "      <td>NaN</td>\n",
              "      <td>NaN</td>\n",
              "      <td>NaN</td>\n",
              "      <td>NaN</td>\n",
              "      <td>8.403330e+09</td>\n",
              "      <td>3797.451740</td>\n",
              "      <td>NaN</td>\n",
              "      <td>4.679362e+08</td>\n",
              "      <td>NaN</td>\n",
              "    </tr>\n",
              "    <tr>\n",
              "      <th>2023-01-09</th>\n",
              "      <td>3910.820068</td>\n",
              "      <td>3950.570068</td>\n",
              "      <td>3890.419922</td>\n",
              "      <td>3892.090088</td>\n",
              "      <td>3892.090088</td>\n",
              "      <td>4311770000</td>\n",
              "      <td>-0.000768</td>\n",
              "      <td>0.003476</td>\n",
              "      <td>0.01763</td>\n",
              "      <td>0.004631</td>\n",
              "      <td>...</td>\n",
              "      <td>NaN</td>\n",
              "      <td>NaN</td>\n",
              "      <td>NaN</td>\n",
              "      <td>NaN</td>\n",
              "      <td>NaN</td>\n",
              "      <td>4.091560e+09</td>\n",
              "      <td>3801.801268</td>\n",
              "      <td>NaN</td>\n",
              "      <td>-3.604387e+09</td>\n",
              "      <td>NaN</td>\n",
              "    </tr>\n",
              "  </tbody>\n",
              "</table>\n",
              "<p>5 rows × 48 columns</p>\n",
              "</div>\n",
              "    <div class=\"colab-df-buttons\">\n",
              "\n",
              "  <div class=\"colab-df-container\">\n",
              "    <button class=\"colab-df-convert\" onclick=\"convertToInteractive('df-5044df77-e665-42fb-8838-3c859fc47f23')\"\n",
              "            title=\"Convert this dataframe to an interactive table.\"\n",
              "            style=\"display:none;\">\n",
              "\n",
              "  <svg xmlns=\"http://www.w3.org/2000/svg\" height=\"24px\" viewBox=\"0 -960 960 960\">\n",
              "    <path d=\"M120-120v-720h720v720H120Zm60-500h600v-160H180v160Zm220 220h160v-160H400v160Zm0 220h160v-160H400v160ZM180-400h160v-160H180v160Zm440 0h160v-160H620v160ZM180-180h160v-160H180v160Zm440 0h160v-160H620v160Z\"/>\n",
              "  </svg>\n",
              "    </button>\n",
              "\n",
              "  <style>\n",
              "    .colab-df-container {\n",
              "      display:flex;\n",
              "      gap: 12px;\n",
              "    }\n",
              "\n",
              "    .colab-df-convert {\n",
              "      background-color: #E8F0FE;\n",
              "      border: none;\n",
              "      border-radius: 50%;\n",
              "      cursor: pointer;\n",
              "      display: none;\n",
              "      fill: #1967D2;\n",
              "      height: 32px;\n",
              "      padding: 0 0 0 0;\n",
              "      width: 32px;\n",
              "    }\n",
              "\n",
              "    .colab-df-convert:hover {\n",
              "      background-color: #E2EBFA;\n",
              "      box-shadow: 0px 1px 2px rgba(60, 64, 67, 0.3), 0px 1px 3px 1px rgba(60, 64, 67, 0.15);\n",
              "      fill: #174EA6;\n",
              "    }\n",
              "\n",
              "    .colab-df-buttons div {\n",
              "      margin-bottom: 4px;\n",
              "    }\n",
              "\n",
              "    [theme=dark] .colab-df-convert {\n",
              "      background-color: #3B4455;\n",
              "      fill: #D2E3FC;\n",
              "    }\n",
              "\n",
              "    [theme=dark] .colab-df-convert:hover {\n",
              "      background-color: #434B5C;\n",
              "      box-shadow: 0px 1px 3px 1px rgba(0, 0, 0, 0.15);\n",
              "      filter: drop-shadow(0px 1px 2px rgba(0, 0, 0, 0.3));\n",
              "      fill: #FFFFFF;\n",
              "    }\n",
              "  </style>\n",
              "\n",
              "    <script>\n",
              "      const buttonEl =\n",
              "        document.querySelector('#df-5044df77-e665-42fb-8838-3c859fc47f23 button.colab-df-convert');\n",
              "      buttonEl.style.display =\n",
              "        google.colab.kernel.accessAllowed ? 'block' : 'none';\n",
              "\n",
              "      async function convertToInteractive(key) {\n",
              "        const element = document.querySelector('#df-5044df77-e665-42fb-8838-3c859fc47f23');\n",
              "        const dataTable =\n",
              "          await google.colab.kernel.invokeFunction('convertToInteractive',\n",
              "                                                    [key], {});\n",
              "        if (!dataTable) return;\n",
              "\n",
              "        const docLinkHtml = 'Like what you see? Visit the ' +\n",
              "          '<a target=\"_blank\" href=https://colab.research.google.com/notebooks/data_table.ipynb>data table notebook</a>'\n",
              "          + ' to learn more about interactive tables.';\n",
              "        element.innerHTML = '';\n",
              "        dataTable['output_type'] = 'display_data';\n",
              "        await google.colab.output.renderOutput(dataTable, element);\n",
              "        const docLink = document.createElement('div');\n",
              "        docLink.innerHTML = docLinkHtml;\n",
              "        element.appendChild(docLink);\n",
              "      }\n",
              "    </script>\n",
              "  </div>\n",
              "\n",
              "\n",
              "<div id=\"df-bac72fcd-5b39-41c4-ac6d-44ff51a28b61\">\n",
              "  <button class=\"colab-df-quickchart\" onclick=\"quickchart('df-bac72fcd-5b39-41c4-ac6d-44ff51a28b61')\"\n",
              "            title=\"Suggest charts\"\n",
              "            style=\"display:none;\">\n",
              "\n",
              "<svg xmlns=\"http://www.w3.org/2000/svg\" height=\"24px\"viewBox=\"0 0 24 24\"\n",
              "     width=\"24px\">\n",
              "    <g>\n",
              "        <path d=\"M19 3H5c-1.1 0-2 .9-2 2v14c0 1.1.9 2 2 2h14c1.1 0 2-.9 2-2V5c0-1.1-.9-2-2-2zM9 17H7v-7h2v7zm4 0h-2V7h2v10zm4 0h-2v-4h2v4z\"/>\n",
              "    </g>\n",
              "</svg>\n",
              "  </button>\n",
              "\n",
              "<style>\n",
              "  .colab-df-quickchart {\n",
              "      --bg-color: #E8F0FE;\n",
              "      --fill-color: #1967D2;\n",
              "      --hover-bg-color: #E2EBFA;\n",
              "      --hover-fill-color: #174EA6;\n",
              "      --disabled-fill-color: #AAA;\n",
              "      --disabled-bg-color: #DDD;\n",
              "  }\n",
              "\n",
              "  [theme=dark] .colab-df-quickchart {\n",
              "      --bg-color: #3B4455;\n",
              "      --fill-color: #D2E3FC;\n",
              "      --hover-bg-color: #434B5C;\n",
              "      --hover-fill-color: #FFFFFF;\n",
              "      --disabled-bg-color: #3B4455;\n",
              "      --disabled-fill-color: #666;\n",
              "  }\n",
              "\n",
              "  .colab-df-quickchart {\n",
              "    background-color: var(--bg-color);\n",
              "    border: none;\n",
              "    border-radius: 50%;\n",
              "    cursor: pointer;\n",
              "    display: none;\n",
              "    fill: var(--fill-color);\n",
              "    height: 32px;\n",
              "    padding: 0;\n",
              "    width: 32px;\n",
              "  }\n",
              "\n",
              "  .colab-df-quickchart:hover {\n",
              "    background-color: var(--hover-bg-color);\n",
              "    box-shadow: 0 1px 2px rgba(60, 64, 67, 0.3), 0 1px 3px 1px rgba(60, 64, 67, 0.15);\n",
              "    fill: var(--button-hover-fill-color);\n",
              "  }\n",
              "\n",
              "  .colab-df-quickchart-complete:disabled,\n",
              "  .colab-df-quickchart-complete:disabled:hover {\n",
              "    background-color: var(--disabled-bg-color);\n",
              "    fill: var(--disabled-fill-color);\n",
              "    box-shadow: none;\n",
              "  }\n",
              "\n",
              "  .colab-df-spinner {\n",
              "    border: 2px solid var(--fill-color);\n",
              "    border-color: transparent;\n",
              "    border-bottom-color: var(--fill-color);\n",
              "    animation:\n",
              "      spin 1s steps(1) infinite;\n",
              "  }\n",
              "\n",
              "  @keyframes spin {\n",
              "    0% {\n",
              "      border-color: transparent;\n",
              "      border-bottom-color: var(--fill-color);\n",
              "      border-left-color: var(--fill-color);\n",
              "    }\n",
              "    20% {\n",
              "      border-color: transparent;\n",
              "      border-left-color: var(--fill-color);\n",
              "      border-top-color: var(--fill-color);\n",
              "    }\n",
              "    30% {\n",
              "      border-color: transparent;\n",
              "      border-left-color: var(--fill-color);\n",
              "      border-top-color: var(--fill-color);\n",
              "      border-right-color: var(--fill-color);\n",
              "    }\n",
              "    40% {\n",
              "      border-color: transparent;\n",
              "      border-right-color: var(--fill-color);\n",
              "      border-top-color: var(--fill-color);\n",
              "    }\n",
              "    60% {\n",
              "      border-color: transparent;\n",
              "      border-right-color: var(--fill-color);\n",
              "    }\n",
              "    80% {\n",
              "      border-color: transparent;\n",
              "      border-right-color: var(--fill-color);\n",
              "      border-bottom-color: var(--fill-color);\n",
              "    }\n",
              "    90% {\n",
              "      border-color: transparent;\n",
              "      border-bottom-color: var(--fill-color);\n",
              "    }\n",
              "  }\n",
              "</style>\n",
              "\n",
              "  <script>\n",
              "    async function quickchart(key) {\n",
              "      const quickchartButtonEl =\n",
              "        document.querySelector('#' + key + ' button');\n",
              "      quickchartButtonEl.disabled = true;  // To prevent multiple clicks.\n",
              "      quickchartButtonEl.classList.add('colab-df-spinner');\n",
              "      try {\n",
              "        const charts = await google.colab.kernel.invokeFunction(\n",
              "            'suggestCharts', [key], {});\n",
              "      } catch (error) {\n",
              "        console.error('Error during call to suggestCharts:', error);\n",
              "      }\n",
              "      quickchartButtonEl.classList.remove('colab-df-spinner');\n",
              "      quickchartButtonEl.classList.add('colab-df-quickchart-complete');\n",
              "    }\n",
              "    (() => {\n",
              "      let quickchartButtonEl =\n",
              "        document.querySelector('#df-bac72fcd-5b39-41c4-ac6d-44ff51a28b61 button');\n",
              "      quickchartButtonEl.style.display =\n",
              "        google.colab.kernel.accessAllowed ? 'block' : 'none';\n",
              "    })();\n",
              "  </script>\n",
              "</div>\n",
              "\n",
              "    </div>\n",
              "  </div>\n"
            ],
            "application/vnd.google.colaboratory.intrinsic+json": {
              "type": "dataframe",
              "variable_name": "sp500_df_features"
            }
          },
          "metadata": {},
          "execution_count": 183
        }
      ]
    },
    {
      "cell_type": "markdown",
      "source": [
        "## Renaming all of the columns in each Dataframe to make columns specific before merging into the bitcoin dataset.\n"
      ],
      "metadata": {
        "id": "EIfsVQTkznQo"
      }
    },
    {
      "cell_type": "code",
      "source": [
        "\n",
        "words_toAdd = ['sp500_df', 'sp400_df','russell2000','vix_df','spgcci_df']\n",
        "\n",
        "# Loop through each DataFrame along with the words to add\n",
        "for i, (df, word) in enumerate(zip([sp500_df_features,sp400_df_features,russell2000_df_features,vix_df_features,spgcci_df_features], words_toAdd)):\n",
        "    # Loop through each column and modify column name\n",
        "    for column in df.columns:\n",
        "        df.rename(columns={column: word + '_' + column}, inplace=True)\n",
        "\n",
        "    # Print the modified DataFrame\n",
        "    #print(f\"DataFrame {i+1} with prefix '{word}':\\n{df}\\n\")\n",
        "\n",
        "\n"
      ],
      "metadata": {
        "id": "YJnaZ4_F0Ki9"
      },
      "execution_count": null,
      "outputs": []
    },
    {
      "cell_type": "markdown",
      "source": [
        "# To merge, will perform an inner join, which will join based on the index(dates)."
      ],
      "metadata": {
        "id": "mdHdbU4mz3qz"
      }
    },
    {
      "cell_type": "code",
      "source": [
        "final_assets_df= final_assets_df.join(sp500_df_features, how='inner')"
      ],
      "metadata": {
        "id": "thVCRXYMxhq0"
      },
      "execution_count": null,
      "outputs": []
    },
    {
      "cell_type": "code",
      "source": [
        "final_assets_df= final_assets_df.join(sp400_df_features, how='inner')\n",
        "final_assets_df= final_assets_df.join(russell2000_df_features, how='inner')\n",
        "final_assets_df= final_assets_df.join(vix_df_features, how='inner')\n",
        "final_assets_df= final_assets_df.join(spgcci_df_features, how='inner')\n"
      ],
      "metadata": {
        "id": "Izz8hm_C2l9n"
      },
      "execution_count": null,
      "outputs": []
    },
    {
      "cell_type": "code",
      "source": [
        "final_assets_df.shape"
      ],
      "metadata": {
        "id": "oh__NICuxSTN",
        "colab": {
          "base_uri": "https://localhost:8080/"
        },
        "outputId": "55111b63-a538-43f2-db05-7cac96257bfc"
      },
      "execution_count": null,
      "outputs": [
        {
          "output_type": "execute_result",
          "data": {
            "text/plain": [
              "(287, 261)"
            ]
          },
          "metadata": {},
          "execution_count": 187
        }
      ]
    },
    {
      "cell_type": "markdown",
      "source": [
        "# Now let's do the Train- Test spilt\n"
      ],
      "metadata": {
        "id": "8u7yqRHE4-nK"
      }
    },
    {
      "cell_type": "code",
      "source": [
        "split_date1 = '2023-10-15'  # First split date\n",
        "split_date2 = '2023-12-20'  # Second split date\n",
        "\n",
        "# Split the data into train, and tests sets\n",
        "All_Train = final_assets_df[final_assets_df.index < split_date1]\n",
        "All_Test1 = final_assets_df[(final_assets_df.index >= split_date1) & (final_assets_df.index < split_date2)]\n",
        "All_Test2 = final_assets_df[final_assets_df.index >= split_date2]\n"
      ],
      "metadata": {
        "id": "PsWPILI_5LHH"
      },
      "execution_count": null,
      "outputs": []
    },
    {
      "cell_type": "code",
      "source": [
        "All_Y_train = All_Train.target\n",
        "All_X_train = All_Train.drop([\"target\"], axis = 1)\n",
        "\n",
        "All_Y_test_1 = All_Test1.target\n",
        "All_X_test_1 = All_Test1.drop([\"target\"], axis = 1)\n",
        "\n",
        "All_Y_test_2 = All_Test2.target\n",
        "All_X_test_2 = All_Test2.drop([\"target\"], axis = 1)"
      ],
      "metadata": {
        "id": "KZ0X4HnU6D7P"
      },
      "execution_count": null,
      "outputs": []
    },
    {
      "cell_type": "code",
      "source": [
        "print (All_X_train.shape[0])\n",
        "print (All_X_test_1.shape[0])\n",
        "print (All_X_test_2.shape[0])"
      ],
      "metadata": {
        "colab": {
          "base_uri": "https://localhost:8080/"
        },
        "id": "DG1Wj3YQ6Si6",
        "outputId": "63cce07b-0af6-49d3-a269-263646df1694"
      },
      "execution_count": null,
      "outputs": [
        {
          "output_type": "stream",
          "name": "stdout",
          "text": [
            "197\n",
            "46\n",
            "44\n"
          ]
        }
      ]
    },
    {
      "cell_type": "markdown",
      "source": [
        "# Now implementing XGBoost model for feature importance through SHAP analysis\n"
      ],
      "metadata": {
        "id": "CrFHGO0d7IMT"
      }
    },
    {
      "cell_type": "code",
      "source": [
        "import xgboost as xgb\n",
        "xgb_instance = xgb.XGBClassifier(n_estimators = 20)\n",
        "model_feature_importance = xgb_instance.fit(All_X_train, All_Y_train)\n",
        "\n",
        "#feature_importance = {'Feature':All_X_train.columns,'Importance':model_feature_importance.feature_importances_}\n",
        "#feature_importance = pd.DataFrame(feature_importance)\n",
        "#feature_importance.sort_values(\"Importance\", inplace=True,ascending=False)\n",
        "#print (feature_importance.to_string())"
      ],
      "metadata": {
        "id": "zUWyMKHJ7HGS"
      },
      "execution_count": null,
      "outputs": []
    },
    {
      "cell_type": "code",
      "source": [
        "import shap\n",
        "explainer = shap.TreeExplainer(xgb_instance)\n",
        "shap_values = explainer.shap_values(All_X_train)\n",
        "shap_summary = pd.DataFrame(shap_values, columns=All_X_train.columns)\n",
        "\n",
        "# Calculate the mean absolute value of the SHAP values for each feature\n",
        "shap_importance = shap_summary.apply(np.abs).mean().sort_values(ascending=False)\n",
        "\n",
        "# Print the feature importance\n",
        "print(shap_importance)"
      ],
      "metadata": {
        "colab": {
          "base_uri": "https://localhost:8080/"
        },
        "id": "7r0sM7k7p-p4",
        "outputId": "14fc4d10-d95f-4cb3-e1ab-a5a579f5cf58"
      },
      "execution_count": null,
      "outputs": [
        {
          "output_type": "stream",
          "name": "stdout",
          "text": [
            "MA_returns_15                   0.379687\n",
            "vix_df_Volatility_returns_30    0.343665\n",
            "spgcci_df_stoch_k               0.311958\n",
            "spgcci_df_MA_diff_9_3           0.230751\n",
            "vix_df_stoch_d                  0.203569\n",
            "                                  ...   \n",
            "sp400_df_OBV                    0.000000\n",
            "sp400_df_SAR                    0.000000\n",
            "sp400_df_ADL                    0.000000\n",
            "russell2000_Open                0.000000\n",
            "spgcci_df_MOM                   0.000000\n",
            "Length: 260, dtype: float32\n"
          ]
        }
      ]
    },
    {
      "cell_type": "code",
      "source": [
        "#all_final_features = feature_importance[\"Feature\"][feature_importance.Importance > 0.01]"
      ],
      "metadata": {
        "id": "5_DJP9z07y3w"
      },
      "execution_count": null,
      "outputs": []
    },
    {
      "cell_type": "code",
      "source": [
        "#keeping features that contribute to a certain percentage of the total importance. For example, keep features that, cumulatively, account for 95% of the total SHAP importance\n",
        "cumulative_importance = shap_importance.cumsum() / shap_importance.sum()\n",
        "threshold = 0.85\n",
        "selected_features = cumulative_importance[cumulative_importance < threshold].index.tolist()\n"
      ],
      "metadata": {
        "id": "xM0GImyerLIK"
      },
      "execution_count": null,
      "outputs": []
    },
    {
      "cell_type": "code",
      "source": [
        "top_non_bitcoin_features = [feature for feature in selected_features if feature not in top_features]#[:N] #Selecting only the features from the other assets."
      ],
      "metadata": {
        "id": "-nEh5ve0Gi_o"
      },
      "execution_count": null,
      "outputs": []
    },
    {
      "cell_type": "code",
      "source": [
        "len(selected_features)"
      ],
      "metadata": {
        "colab": {
          "base_uri": "https://localhost:8080/"
        },
        "id": "mR3xS0PUrOeE",
        "outputId": "03288f32-b735-44d0-c08b-3db9c5e9767d"
      },
      "execution_count": null,
      "outputs": [
        {
          "output_type": "execute_result",
          "data": {
            "text/plain": [
              "51"
            ]
          },
          "metadata": {},
          "execution_count": 194
        }
      ]
    },
    {
      "cell_type": "code",
      "source": [
        "print(selected_features)"
      ],
      "metadata": {
        "colab": {
          "base_uri": "https://localhost:8080/"
        },
        "id": "9jMvcOxQFXLn",
        "outputId": "a085ae43-5435-4940-c129-0b2bd1633a0a"
      },
      "execution_count": null,
      "outputs": [
        {
          "output_type": "stream",
          "name": "stdout",
          "text": [
            "['MA_returns_15', 'vix_df_Volatility_returns_30', 'spgcci_df_stoch_k', 'spgcci_df_MA_diff_9_3', 'vix_df_stoch_d', 'rolling_avg_next_5', 'sp400_df_MA_diff_9_3', 'MA_returns_3', 'vix_df_MA_diff_15_12', 'russell2000_Volatility_returns_30', 'SAR', 'Volatility_returns_9', 'vix_df_Open', 'russell2000_Volatility_returns_9', 'sp400_df_MA_returns_30', 'average_return_next_5_days', 'vix_df_MA_diff_12_3', 'sp500_df_Open', 'MA_diff_15_30', 'MACD_hist', 'OBV', 'vix_df_MA_returns_3', 'sp500_df_OBV', 'spgcci_df_MA_diff_12_3', 'sp400_df_EWMA_diff_9_3', 'Volatility_returns_3', 'sp400_df_BB_upper', 'BB_middle', 'russell2000_SAR', 'ATR', 'vix_df_Volatility_returns_12', 'russell2000_EWMA_diff_9_3', 'spgcci_df_EWMA_returns_3', 'vix_df_EWMA_diff_15_30', 'vix_df_ATR', 'sp500_df_EWMA_diff_9_3', 'vix_df_MACD_signal', 'spgcci_df_BB_upper', 'spgcci_df_BB_lower', 'sp500_df_SAR', 'sp500_df_MOM', 'russell2000_MA_returns_30', 'spgcci_df_MA_diff_12_9', 'sp400_df_MA_diff_12_9', 'sp500_df_MA_diff_15_12', 'russell2000_MA_diff_9_3', 'spgcci_df_Volatility_returns_3', 'spgcci_df_MA_returns_9', 'MA_diff_9_3', 'vix_df_Volatility_returns_9', 'vix_df_EWMA_returns_3']\n"
          ]
        }
      ]
    },
    {
      "cell_type": "markdown",
      "source": [],
      "metadata": {
        "id": "Qc8Sr3ClpSOX"
      }
    },
    {
      "cell_type": "code",
      "source": [
        "all_final_features=top_features+top_non_bitcoin_features #Now combining both the bitcoin features and all the other asset features."
      ],
      "metadata": {
        "id": "QHgltYl773Gh"
      },
      "execution_count": null,
      "outputs": []
    },
    {
      "cell_type": "code",
      "source": [
        "len(all_final_features)"
      ],
      "metadata": {
        "colab": {
          "base_uri": "https://localhost:8080/"
        },
        "id": "aPsr64uLIAi0",
        "outputId": "2f3644a9-4ac1-4c9a-9a22-81ff94adf048"
      },
      "execution_count": null,
      "outputs": [
        {
          "output_type": "execute_result",
          "data": {
            "text/plain": [
              "58"
            ]
          },
          "metadata": {},
          "execution_count": 202
        }
      ]
    },
    {
      "cell_type": "code",
      "source": [
        "feat=pd.DataFrame(all_final_features, columns=['Features'])\n",
        "print(pd.DataFrame(all_final_features, columns=['Features'])) #Printing out all the features."
      ],
      "metadata": {
        "colab": {
          "base_uri": "https://localhost:8080/"
        },
        "id": "g38MZK5LpvQJ",
        "outputId": "d19a8cc1-6c0e-4912-f72b-f5b06d6f07be"
      },
      "execution_count": null,
      "outputs": [
        {
          "output_type": "stream",
          "name": "stdout",
          "text": [
            "                             Features\n",
            "0                                 OBV\n",
            "1                       MA_returns_15\n",
            "2                  rolling_avg_next_5\n",
            "3                       MA_returns_30\n",
            "4                       MA_diff_15_30\n",
            "5                           MACD_hist\n",
            "6                       EWMA_diff_9_3\n",
            "7                                 SAR\n",
            "8                              Volume\n",
            "9          average_return_next_5_days\n",
            "10                       MA_diff_12_3\n",
            "11                          BB_middle\n",
            "12                        MA_diff_9_3\n",
            "13              Volatility_returns_15\n",
            "14                                ATR\n",
            "15               Volatility_returns_9\n",
            "16                       MA_returns_3\n",
            "17                      daily_returns\n",
            "18               Volatility_returns_3\n",
            "19                    EWMA_diff_15_12\n",
            "20       vix_df_Volatility_returns_30\n",
            "21                  spgcci_df_stoch_k\n",
            "22              spgcci_df_MA_diff_9_3\n",
            "23                     vix_df_stoch_d\n",
            "24               sp400_df_MA_diff_9_3\n",
            "25               vix_df_MA_diff_15_12\n",
            "26  russell2000_Volatility_returns_30\n",
            "27                        vix_df_Open\n",
            "28   russell2000_Volatility_returns_9\n",
            "29             sp400_df_MA_returns_30\n",
            "30                vix_df_MA_diff_12_3\n",
            "31                      sp500_df_Open\n",
            "32                vix_df_MA_returns_3\n",
            "33                       sp500_df_OBV\n",
            "34             spgcci_df_MA_diff_12_3\n",
            "35             sp400_df_EWMA_diff_9_3\n",
            "36                  sp400_df_BB_upper\n",
            "37                    russell2000_SAR\n",
            "38       vix_df_Volatility_returns_12\n",
            "39          russell2000_EWMA_diff_9_3\n",
            "40           spgcci_df_EWMA_returns_3\n",
            "41             vix_df_EWMA_diff_15_30\n",
            "42                         vix_df_ATR\n",
            "43             sp500_df_EWMA_diff_9_3\n",
            "44                 vix_df_MACD_signal\n",
            "45                 spgcci_df_BB_upper\n",
            "46                 spgcci_df_BB_lower\n",
            "47                       sp500_df_SAR\n",
            "48                       sp500_df_MOM\n",
            "49          russell2000_MA_returns_30\n",
            "50             spgcci_df_MA_diff_12_9\n",
            "51              sp400_df_MA_diff_12_9\n",
            "52             sp500_df_MA_diff_15_12\n",
            "53            russell2000_MA_diff_9_3\n",
            "54     spgcci_df_Volatility_returns_3\n",
            "55             spgcci_df_MA_returns_9\n",
            "56        vix_df_Volatility_returns_9\n",
            "57              vix_df_EWMA_returns_3\n"
          ]
        }
      ]
    },
    {
      "cell_type": "code",
      "source": [
        "#print the above to a csv file\n",
        "\n",
        "feat.to_csv('all_final_features.csv', index=False)\n"
      ],
      "metadata": {
        "id": "Vs0k4sgQqM0L"
      },
      "execution_count": null,
      "outputs": []
    },
    {
      "cell_type": "markdown",
      "source": [
        "# Now using only the final features and performing a grid search"
      ],
      "metadata": {
        "id": "CwgG3K838WD7"
      }
    },
    {
      "cell_type": "code",
      "source": [
        "All_X_train = All_X_train[all_final_features]\n",
        "All_X_test_1 = All_X_test_1[all_final_features]\n",
        "All_X_test_2 = All_X_test_2[all_final_features]"
      ],
      "metadata": {
        "id": "OKju4s_W8VN2"
      },
      "execution_count": null,
      "outputs": []
    },
    {
      "cell_type": "code",
      "source": [
        "print (All_X_train.shape)\n",
        "print (All_X_test_1.shape)\n",
        "print (All_X_test_2.shape)"
      ],
      "metadata": {
        "colab": {
          "base_uri": "https://localhost:8080/"
        },
        "id": "ZCjVs7hH9kdR",
        "outputId": "4fd3762b-1a1c-431d-d642-d39e21f1fbe3"
      },
      "execution_count": null,
      "outputs": [
        {
          "output_type": "stream",
          "name": "stdout",
          "text": [
            "(197, 58)\n",
            "(46, 58)\n",
            "(44, 58)\n"
          ]
        }
      ]
    },
    {
      "cell_type": "code",
      "source": [
        "from sklearn.metrics import roc_auc_score\n",
        "import pandas as pd\n",
        "import xgboost as xgb\n",
        "\n",
        "# Initialize a DataFrame to store the results\n",
        "table = pd.DataFrame(columns=[\"Num Trees\", \"Learning Rate\",\"Max_depth\", \"Reg Alpha\", \"Reg Lambda\",\"Weight\",\"AUC Train\", \"AUC Test1\", \"AUC Test2\"])\n",
        "\n",
        "row = 0\n",
        "for num_trees in [20,50,100]:\n",
        "    for lr in [0.001, 0.01, 0.1]:\n",
        "       for max_depth in [3, 4]:\n",
        "        for reg_alpha in [0, 0.1, 1, 5]:\n",
        "          for reg_lambda in [0, 0.1, 1, 5]:\n",
        "              for weight in [1, 5, 10]:\n",
        "                # Initialize XGBoost classifier with specified parameters\n",
        "                xgb_instance = xgb.XGBClassifier(n_estimators=num_trees,\n",
        "                                                 learning_rate=lr,\n",
        "                                                 max_depth= max_depth,\n",
        "                                                 reg_alpha=reg_alpha,  # L1 regularization\n",
        "                                                 reg_lambda=reg_lambda,  # L2 regularization\n",
        "                                                 scale_pos_weight=weight)\n",
        "                # Fit the model on training data\n",
        "                model = xgb_instance.fit(All_X_train, All_Y_train)\n",
        "\n",
        "                # Calculate AUC scores for training and testing sets\n",
        "                auc_train = roc_auc_score(All_Y_train, model.predict_proba(All_X_train)[:, 1])\n",
        "                auc_test1 = roc_auc_score(All_Y_test_1, model.predict_proba(All_X_test_1)[:, 1])\n",
        "                auc_test2 = roc_auc_score(All_Y_test_2, model.predict_proba(All_X_test_2)[:, 1])\n",
        "\n",
        "                # Store the results in the DataFrame\n",
        "                table.loc[row, \"Num Trees\"] = num_trees\n",
        "                table.loc[row, \"Learning Rate\"] = lr\n",
        "                table.loc[row, \"Max_depth\"] = max_depth\n",
        "                table.loc[row, \"Reg Alpha\"] = reg_alpha\n",
        "                table.loc[row, \"Reg Lambda\"] = reg_lambda\n",
        "                table.loc[row, \"Weight\"] = weight\n",
        "                table.loc[row, \"AUC Train\"] = auc_train\n",
        "                table.loc[row, \"AUC Test1\"] = auc_test1\n",
        "                table.loc[row, \"AUC Test2\"] = auc_test2\n",
        "\n",
        "                row += 1"
      ],
      "metadata": {
        "id": "jM-bxAfR90VE"
      },
      "execution_count": null,
      "outputs": []
    },
    {
      "cell_type": "code",
      "source": [
        "plt.scatter(table[\"AUC Train\"], table[\"AUC Test1\"])\n"
      ],
      "metadata": {
        "colab": {
          "base_uri": "https://localhost:8080/",
          "height": 447
        },
        "id": "M7SBnyt8vf19",
        "outputId": "c50f21c1-95a6-473d-f676-55e82c33df2a"
      },
      "execution_count": null,
      "outputs": [
        {
          "output_type": "execute_result",
          "data": {
            "text/plain": [
              "<matplotlib.collections.PathCollection at 0x7c0714b69060>"
            ]
          },
          "metadata": {},
          "execution_count": 209
        },
        {
          "output_type": "display_data",
          "data": {
            "text/plain": [
              "<Figure size 640x480 with 1 Axes>"
            ],
            "image/png": "[encoded data removed]"
          },
          "metadata": {}
        }
      ]
    },
    {
      "cell_type": "code",
      "source": [
        "# prompt: rewrite the above code my labelling the axes\n",
        "\n",
        "import matplotlib.pyplot as plt\n",
        "plt.scatter(table[\"AUC Train\"], table[\"AUC Test1\"])\n",
        "plt.xlabel(\"Training AUC\")\n",
        "plt.ylabel(\"Test1 AUC\")\n",
        "\n"
      ],
      "metadata": {
        "colab": {
          "base_uri": "https://localhost:8080/",
          "height": 466
        },
        "id": "-6iJTEvOwKb4",
        "outputId": "d2f90933-9f05-4d8e-f8e9-f3945b6468b1"
      },
      "execution_count": null,
      "outputs": [
        {
          "output_type": "execute_result",
          "data": {
            "text/plain": [
              "Text(0, 0.5, 'Test1 AUC')"
            ]
          },
          "metadata": {},
          "execution_count": 212
        },
        {
          "output_type": "display_data",
          "data": {
            "text/plain": [
              "<Figure size 640x480 with 1 Axes>"
            ],
            "image/png": "[encoded data removed]"
          },
          "metadata": {}
        }
      ]
    },
    {
      "cell_type": "code",
      "source": [
        "plt.scatter(table[\"AUC Train\"], table[\"AUC Test2\"])\n",
        "plt.xlabel(\"Training AUC\")\n",
        "plt.ylabel(\"Test2 AUC\")"
      ],
      "metadata": {
        "colab": {
          "base_uri": "https://localhost:8080/",
          "height": 466
        },
        "id": "5hIrPuWAwJtj",
        "outputId": "d4f05362-3573-4cd9-bf3b-842167e88a9b"
      },
      "execution_count": null,
      "outputs": [
        {
          "output_type": "execute_result",
          "data": {
            "text/plain": [
              "Text(0, 0.5, 'Test2 AUC')"
            ]
          },
          "metadata": {},
          "execution_count": 213
        },
        {
          "output_type": "display_data",
          "data": {
            "text/plain": [
              "<Figure size 640x480 with 1 Axes>"
            ],
            "image/png": "[encoded data removed]"
          },
          "metadata": {}
        }
      ]
    },
    {
      "cell_type": "code",
      "source": [
        "import matplotlib.pyplot as plt\n",
        "\n",
        "plt.figure(facecolor='none')\n",
        "plt.scatter(table[\"AUC Train\"], table[\"AUC Test1\"])\n",
        "plt.xlabel(\"Training AUC\")\n",
        "plt.ylabel(\"Test1 AUC\")\n",
        "plt.show()"
      ],
      "metadata": {
        "colab": {
          "base_uri": "https://localhost:8080/",
          "height": 449
        },
        "id": "nOiIs_wY1Z5w",
        "outputId": "facd35b4-1b36-4332-d83a-80c6caef1ce4"
      },
      "execution_count": null,
      "outputs": [
        {
          "output_type": "display_data",
          "data": {
            "text/plain": [
              "<Figure size 640x480 with 1 Axes>"
            ],
            "image/png": "[encoded data removed]"
          },
          "metadata": {
            "needs_background": "light"
          }
        }
      ]
    },
    {
      "cell_type": "code",
      "source": [
        "plt.figure(facecolor='none')\n",
        "plt.scatter(table[\"AUC Train\"], table[\"AUC Test2\"])\n",
        "plt.xlabel(\"Training AUC\")\n",
        "plt.ylabel(\"Test2 AUC\")\n",
        "plt.show()"
      ],
      "metadata": {
        "colab": {
          "base_uri": "https://localhost:8080/",
          "height": 449
        },
        "id": "15E4pi293qdm",
        "outputId": "4e194fb7-9bf4-464c-996a-987a07e3b3e8"
      },
      "execution_count": null,
      "outputs": [
        {
          "output_type": "display_data",
          "data": {
            "text/plain": [
              "<Figure size 640x480 with 1 Axes>"
            ],
            "image/png": "[encoded data removed]"
          },
          "metadata": {
            "needs_background": "light"
          }
        }
      ]
    },
    {
      "cell_type": "code",
      "source": [
        "table"
      ],
      "metadata": {
        "colab": {
          "base_uri": "https://localhost:8080/",
          "height": 520
        },
        "id": "hxomJWbT9_-z",
        "outputId": "3959fe54-5685-4351-e988-5034dba417a7"
      },
      "execution_count": null,
      "outputs": [
        {
          "output_type": "execute_result",
          "data": {
            "text/plain": [
              "    Num Trees Learning Rate Max_depth Reg Alpha Reg Lambda Weight AUC Train  \\\n",
              "0          20         0.001         3         0          0      1  0.931503   \n",
              "1          20         0.001         3         0          0      5  0.913598   \n",
              "2          20         0.001         3         0          0     10  0.902365   \n",
              "3          20         0.001         3         0        0.1      1  0.931841   \n",
              "4          20         0.001         3         0        0.1      5  0.913598   \n",
              "..        ...           ...       ...       ...        ...    ...       ...   \n",
              "859       100           0.1         4         5          1      5       1.0   \n",
              "860       100           0.1         4         5          1     10       1.0   \n",
              "861       100           0.1         4         5          5      1  0.993074   \n",
              "862       100           0.1         4         5          5      5       1.0   \n",
              "863       100           0.1         4         5          5     10       1.0   \n",
              "\n",
              "    AUC Test1 AUC Test2  \n",
              "0    0.468531  0.541176  \n",
              "1    0.417249       0.5  \n",
              "2    0.461538  0.535294  \n",
              "3    0.468531  0.541176  \n",
              "4    0.452214  0.426471  \n",
              "..        ...       ...  \n",
              "859  0.519814      0.35  \n",
              "860  0.463869  0.326471  \n",
              "861  0.433566  0.420588  \n",
              "862  0.477855  0.311765  \n",
              "863  0.461538  0.326471  \n",
              "\n",
              "[864 rows x 9 columns]"
            ],
            "text/html": [
              "\n",
              "  <div id=\"df-01d17d3f-acba-4b75-840b-d0ec8220204c\" class=\"colab-df-container\">\n",
              "    <div>\n",
              "<style scoped>\n",
              "    .dataframe tbody tr th:only-of-type {\n",
              "        vertical-align: middle;\n",
              "    }\n",
              "\n",
              "    .dataframe tbody tr th {\n",
              "        vertical-align: top;\n",
              "    }\n",
              "\n",
              "    .dataframe thead th {\n",
              "        text-align: right;\n",
              "    }\n",
              "</style>\n",
              "<table border=\"1\" class=\"dataframe\">\n",
              "  <thead>\n",
              "    <tr style=\"text-align: right;\">\n",
              "      <th></th>\n",
              "      <th>Num Trees</th>\n",
              "      <th>Learning Rate</th>\n",
              "      <th>Max_depth</th>\n",
              "      <th>Reg Alpha</th>\n",
              "      <th>Reg Lambda</th>\n",
              "      <th>Weight</th>\n",
              "      <th>AUC Train</th>\n",
              "      <th>AUC Test1</th>\n",
              "      <th>AUC Test2</th>\n",
              "    </tr>\n",
              "  </thead>\n",
              "  <tbody>\n",
              "    <tr>\n",
              "      <th>0</th>\n",
              "      <td>20</td>\n",
              "      <td>0.001</td>\n",
              "      <td>3</td>\n",
              "      <td>0</td>\n",
              "      <td>0</td>\n",
              "      <td>1</td>\n",
              "      <td>0.931503</td>\n",
              "      <td>0.468531</td>\n",
              "      <td>0.541176</td>\n",
              "    </tr>\n",
              "    <tr>\n",
              "      <th>1</th>\n",
              "      <td>20</td>\n",
              "      <td>0.001</td>\n",
              "      <td>3</td>\n",
              "      <td>0</td>\n",
              "      <td>0</td>\n",
              "      <td>5</td>\n",
              "      <td>0.913598</td>\n",
              "      <td>0.417249</td>\n",
              "      <td>0.5</td>\n",
              "    </tr>\n",
              "    <tr>\n",
              "      <th>2</th>\n",
              "      <td>20</td>\n",
              "      <td>0.001</td>\n",
              "      <td>3</td>\n",
              "      <td>0</td>\n",
              "      <td>0</td>\n",
              "      <td>10</td>\n",
              "      <td>0.902365</td>\n",
              "      <td>0.461538</td>\n",
              "      <td>0.535294</td>\n",
              "    </tr>\n",
              "    <tr>\n",
              "      <th>3</th>\n",
              "      <td>20</td>\n",
              "      <td>0.001</td>\n",
              "      <td>3</td>\n",
              "      <td>0</td>\n",
              "      <td>0.1</td>\n",
              "      <td>1</td>\n",
              "      <td>0.931841</td>\n",
              "      <td>0.468531</td>\n",
              "      <td>0.541176</td>\n",
              "    </tr>\n",
              "    <tr>\n",
              "      <th>4</th>\n",
              "      <td>20</td>\n",
              "      <td>0.001</td>\n",
              "      <td>3</td>\n",
              "      <td>0</td>\n",
              "      <td>0.1</td>\n",
              "      <td>5</td>\n",
              "      <td>0.913598</td>\n",
              "      <td>0.452214</td>\n",
              "      <td>0.426471</td>\n",
              "    </tr>\n",
              "    <tr>\n",
              "      <th>...</th>\n",
              "      <td>...</td>\n",
              "      <td>...</td>\n",
              "      <td>...</td>\n",
              "      <td>...</td>\n",
              "      <td>...</td>\n",
              "      <td>...</td>\n",
              "      <td>...</td>\n",
              "      <td>...</td>\n",
              "      <td>...</td>\n",
              "    </tr>\n",
              "    <tr>\n",
              "      <th>859</th>\n",
              "      <td>100</td>\n",
              "      <td>0.1</td>\n",
              "      <td>4</td>\n",
              "      <td>5</td>\n",
              "      <td>1</td>\n",
              "      <td>5</td>\n",
              "      <td>1.0</td>\n",
              "      <td>0.519814</td>\n",
              "      <td>0.35</td>\n",
              "    </tr>\n",
              "    <tr>\n",
              "      <th>860</th>\n",
              "      <td>100</td>\n",
              "      <td>0.1</td>\n",
              "      <td>4</td>\n",
              "      <td>5</td>\n",
              "      <td>1</td>\n",
              "      <td>10</td>\n",
              "      <td>1.0</td>\n",
              "      <td>0.463869</td>\n",
              "      <td>0.326471</td>\n",
              "    </tr>\n",
              "    <tr>\n",
              "      <th>861</th>\n",
              "      <td>100</td>\n",
              "      <td>0.1</td>\n",
              "      <td>4</td>\n",
              "      <td>5</td>\n",
              "      <td>5</td>\n",
              "      <td>1</td>\n",
              "      <td>0.993074</td>\n",
              "      <td>0.433566</td>\n",
              "      <td>0.420588</td>\n",
              "    </tr>\n",
              "    <tr>\n",
              "      <th>862</th>\n",
              "      <td>100</td>\n",
              "      <td>0.1</td>\n",
              "      <td>4</td>\n",
              "      <td>5</td>\n",
              "      <td>5</td>\n",
              "      <td>5</td>\n",
              "      <td>1.0</td>\n",
              "      <td>0.477855</td>\n",
              "      <td>0.311765</td>\n",
              "    </tr>\n",
              "    <tr>\n",
              "      <th>863</th>\n",
              "      <td>100</td>\n",
              "      <td>0.1</td>\n",
              "      <td>4</td>\n",
              "      <td>5</td>\n",
              "      <td>5</td>\n",
              "      <td>10</td>\n",
              "      <td>1.0</td>\n",
              "      <td>0.461538</td>\n",
              "      <td>0.326471</td>\n",
              "    </tr>\n",
              "  </tbody>\n",
              "</table>\n",
              "<p>864 rows × 9 columns</p>\n",
              "</div>\n",
              "    <div class=\"colab-df-buttons\">\n",
              "\n",
              "  <div class=\"colab-df-container\">\n",
              "    <button class=\"colab-df-convert\" onclick=\"convertToInteractive('df-01d17d3f-acba-4b75-840b-d0ec8220204c')\"\n",
              "            title=\"Convert this dataframe to an interactive table.\"\n",
              "            style=\"display:none;\">\n",
              "\n",
              "  <svg xmlns=\"http://www.w3.org/2000/svg\" height=\"24px\" viewBox=\"0 -960 960 960\">\n",
              "    <path d=\"M120-120v-720h720v720H120Zm60-500h600v-160H180v160Zm220 220h160v-160H400v160Zm0 220h160v-160H400v160ZM180-400h160v-160H180v160Zm440 0h160v-160H620v160ZM180-180h160v-160H180v160Zm440 0h160v-160H620v160Z\"/>\n",
              "  </svg>\n",
              "    </button>\n",
              "\n",
              "  <style>\n",
              "    .colab-df-container {\n",
              "      display:flex;\n",
              "      gap: 12px;\n",
              "    }\n",
              "\n",
              "    .colab-df-convert {\n",
              "      background-color: #E8F0FE;\n",
              "      border: none;\n",
              "      border-radius: 50%;\n",
              "      cursor: pointer;\n",
              "      display: none;\n",
              "      fill: #1967D2;\n",
              "      height: 32px;\n",
              "      padding: 0 0 0 0;\n",
              "      width: 32px;\n",
              "    }\n",
              "\n",
              "    .colab-df-convert:hover {\n",
              "      background-color: #E2EBFA;\n",
              "      box-shadow: 0px 1px 2px rgba(60, 64, 67, 0.3), 0px 1px 3px 1px rgba(60, 64, 67, 0.15);\n",
              "      fill: #174EA6;\n",
              "    }\n",
              "\n",
              "    .colab-df-buttons div {\n",
              "      margin-bottom: 4px;\n",
              "    }\n",
              "\n",
              "    [theme=dark] .colab-df-convert {\n",
              "      background-color: #3B4455;\n",
              "      fill: #D2E3FC;\n",
              "    }\n",
              "\n",
              "    [theme=dark] .colab-df-convert:hover {\n",
              "      background-color: #434B5C;\n",
              "      box-shadow: 0px 1px 3px 1px rgba(0, 0, 0, 0.15);\n",
              "      filter: drop-shadow(0px 1px 2px rgba(0, 0, 0, 0.3));\n",
              "      fill: #FFFFFF;\n",
              "    }\n",
              "  </style>\n",
              "\n",
              "    <script>\n",
              "      const buttonEl =\n",
              "        document.querySelector('#df-01d17d3f-acba-4b75-840b-d0ec8220204c button.colab-df-convert');\n",
              "      buttonEl.style.display =\n",
              "        google.colab.kernel.accessAllowed ? 'block' : 'none';\n",
              "\n",
              "      async function convertToInteractive(key) {\n",
              "        const element = document.querySelector('#df-01d17d3f-acba-4b75-840b-d0ec8220204c');\n",
              "        const dataTable =\n",
              "          await google.colab.kernel.invokeFunction('convertToInteractive',\n",
              "                                                    [key], {});\n",
              "        if (!dataTable) return;\n",
              "\n",
              "        const docLinkHtml = 'Like what you see? Visit the ' +\n",
              "          '<a target=\"_blank\" href=https://colab.research.google.com/notebooks/data_table.ipynb>data table notebook</a>'\n",
              "          + ' to learn more about interactive tables.';\n",
              "        element.innerHTML = '';\n",
              "        dataTable['output_type'] = 'display_data';\n",
              "        await google.colab.output.renderOutput(dataTable, element);\n",
              "        const docLink = document.createElement('div');\n",
              "        docLink.innerHTML = docLinkHtml;\n",
              "        element.appendChild(docLink);\n",
              "      }\n",
              "    </script>\n",
              "  </div>\n",
              "\n",
              "\n",
              "<div id=\"df-f9436362-0ae1-40ba-aa91-eaeb16fb3adf\">\n",
              "  <button class=\"colab-df-quickchart\" onclick=\"quickchart('df-f9436362-0ae1-40ba-aa91-eaeb16fb3adf')\"\n",
              "            title=\"Suggest charts\"\n",
              "            style=\"display:none;\">\n",
              "\n",
              "<svg xmlns=\"http://www.w3.org/2000/svg\" height=\"24px\"viewBox=\"0 0 24 24\"\n",
              "     width=\"24px\">\n",
              "    <g>\n",
              "        <path d=\"M19 3H5c-1.1 0-2 .9-2 2v14c0 1.1.9 2 2 2h14c1.1 0 2-.9 2-2V5c0-1.1-.9-2-2-2zM9 17H7v-7h2v7zm4 0h-2V7h2v10zm4 0h-2v-4h2v4z\"/>\n",
              "    </g>\n",
              "</svg>\n",
              "  </button>\n",
              "\n",
              "<style>\n",
              "  .colab-df-quickchart {\n",
              "      --bg-color: #E8F0FE;\n",
              "      --fill-color: #1967D2;\n",
              "      --hover-bg-color: #E2EBFA;\n",
              "      --hover-fill-color: #174EA6;\n",
              "      --disabled-fill-color: #AAA;\n",
              "      --disabled-bg-color: #DDD;\n",
              "  }\n",
              "\n",
              "  [theme=dark] .colab-df-quickchart {\n",
              "      --bg-color: #3B4455;\n",
              "      --fill-color: #D2E3FC;\n",
              "      --hover-bg-color: #434B5C;\n",
              "      --hover-fill-color: #FFFFFF;\n",
              "      --disabled-bg-color: #3B4455;\n",
              "      --disabled-fill-color: #666;\n",
              "  }\n",
              "\n",
              "  .colab-df-quickchart {\n",
              "    background-color: var(--bg-color);\n",
              "    border: none;\n",
              "    border-radius: 50%;\n",
              "    cursor: pointer;\n",
              "    display: none;\n",
              "    fill: var(--fill-color);\n",
              "    height: 32px;\n",
              "    padding: 0;\n",
              "    width: 32px;\n",
              "  }\n",
              "\n",
              "  .colab-df-quickchart:hover {\n",
              "    background-color: var(--hover-bg-color);\n",
              "    box-shadow: 0 1px 2px rgba(60, 64, 67, 0.3), 0 1px 3px 1px rgba(60, 64, 67, 0.15);\n",
              "    fill: var(--button-hover-fill-color);\n",
              "  }\n",
              "\n",
              "  .colab-df-quickchart-complete:disabled,\n",
              "  .colab-df-quickchart-complete:disabled:hover {\n",
              "    background-color: var(--disabled-bg-color);\n",
              "    fill: var(--disabled-fill-color);\n",
              "    box-shadow: none;\n",
              "  }\n",
              "\n",
              "  .colab-df-spinner {\n",
              "    border: 2px solid var(--fill-color);\n",
              "    border-color: transparent;\n",
              "    border-bottom-color: var(--fill-color);\n",
              "    animation:\n",
              "      spin 1s steps(1) infinite;\n",
              "  }\n",
              "\n",
              "  @keyframes spin {\n",
              "    0% {\n",
              "      border-color: transparent;\n",
              "      border-bottom-color: var(--fill-color);\n",
              "      border-left-color: var(--fill-color);\n",
              "    }\n",
              "    20% {\n",
              "      border-color: transparent;\n",
              "      border-left-color: var(--fill-color);\n",
              "      border-top-color: var(--fill-color);\n",
              "    }\n",
              "    30% {\n",
              "      border-color: transparent;\n",
              "      border-left-color: var(--fill-color);\n",
              "      border-top-color: var(--fill-color);\n",
              "      border-right-color: var(--fill-color);\n",
              "    }\n",
              "    40% {\n",
              "      border-color: transparent;\n",
              "      border-right-color: var(--fill-color);\n",
              "      border-top-color: var(--fill-color);\n",
              "    }\n",
              "    60% {\n",
              "      border-color: transparent;\n",
              "      border-right-color: var(--fill-color);\n",
              "    }\n",
              "    80% {\n",
              "      border-color: transparent;\n",
              "      border-right-color: var(--fill-color);\n",
              "      border-bottom-color: var(--fill-color);\n",
              "    }\n",
              "    90% {\n",
              "      border-color: transparent;\n",
              "      border-bottom-color: var(--fill-color);\n",
              "    }\n",
              "  }\n",
              "</style>\n",
              "\n",
              "  <script>\n",
              "    async function quickchart(key) {\n",
              "      const quickchartButtonEl =\n",
              "        document.querySelector('#' + key + ' button');\n",
              "      quickchartButtonEl.disabled = true;  // To prevent multiple clicks.\n",
              "      quickchartButtonEl.classList.add('colab-df-spinner');\n",
              "      try {\n",
              "        const charts = await google.colab.kernel.invokeFunction(\n",
              "            'suggestCharts', [key], {});\n",
              "      } catch (error) {\n",
              "        console.error('Error during call to suggestCharts:', error);\n",
              "      }\n",
              "      quickchartButtonEl.classList.remove('colab-df-spinner');\n",
              "      quickchartButtonEl.classList.add('colab-df-quickchart-complete');\n",
              "    }\n",
              "    (() => {\n",
              "      let quickchartButtonEl =\n",
              "        document.querySelector('#df-f9436362-0ae1-40ba-aa91-eaeb16fb3adf button');\n",
              "      quickchartButtonEl.style.display =\n",
              "        google.colab.kernel.accessAllowed ? 'block' : 'none';\n",
              "    })();\n",
              "  </script>\n",
              "</div>\n",
              "\n",
              "  <div id=\"id_6ad7bcb2-c1b7-4745-8cdf-7cf5e45a9598\">\n",
              "    <style>\n",
              "      .colab-df-generate {\n",
              "        background-color: #E8F0FE;\n",
              "        border: none;\n",
              "        border-radius: 50%;\n",
              "        cursor: pointer;\n",
              "        display: none;\n",
              "        fill: #1967D2;\n",
              "        height: 32px;\n",
              "        padding: 0 0 0 0;\n",
              "        width: 32px;\n",
              "      }\n",
              "\n",
              "      .colab-df-generate:hover {\n",
              "        background-color: #E2EBFA;\n",
              "        box-shadow: 0px 1px 2px rgba(60, 64, 67, 0.3), 0px 1px 3px 1px rgba(60, 64, 67, 0.15);\n",
              "        fill: #174EA6;\n",
              "      }\n",
              "\n",
              "      [theme=dark] .colab-df-generate {\n",
              "        background-color: #3B4455;\n",
              "        fill: #D2E3FC;\n",
              "      }\n",
              "\n",
              "      [theme=dark] .colab-df-generate:hover {\n",
              "        background-color: #434B5C;\n",
              "        box-shadow: 0px 1px 3px 1px rgba(0, 0, 0, 0.15);\n",
              "        filter: drop-shadow(0px 1px 2px rgba(0, 0, 0, 0.3));\n",
              "        fill: #FFFFFF;\n",
              "      }\n",
              "    </style>\n",
              "    <button class=\"colab-df-generate\" onclick=\"generateWithVariable('table')\"\n",
              "            title=\"Generate code using this dataframe.\"\n",
              "            style=\"display:none;\">\n",
              "\n",
              "  <svg xmlns=\"http://www.w3.org/2000/svg\" height=\"24px\"viewBox=\"0 0 24 24\"\n",
              "       width=\"24px\">\n",
              "    <path d=\"M7,19H8.4L18.45,9,17,7.55,7,17.6ZM5,21V16.75L18.45,3.32a2,2,0,0,1,2.83,0l1.4,1.43a1.91,1.91,0,0,1,.58,1.4,1.91,1.91,0,0,1-.58,1.4L9.25,21ZM18.45,9,17,7.55Zm-12,3A5.31,5.31,0,0,0,4.9,8.1,5.31,5.31,0,0,0,1,6.5,5.31,5.31,0,0,0,4.9,4.9,5.31,5.31,0,0,0,6.5,1,5.31,5.31,0,0,0,8.1,4.9,5.31,5.31,0,0,0,12,6.5,5.46,5.46,0,0,0,6.5,12Z\"/>\n",
              "  </svg>\n",
              "    </button>\n",
              "    <script>\n",
              "      (() => {\n",
              "      const buttonEl =\n",
              "        document.querySelector('#id_6ad7bcb2-c1b7-4745-8cdf-7cf5e45a9598 button.colab-df-generate');\n",
              "      buttonEl.style.display =\n",
              "        google.colab.kernel.accessAllowed ? 'block' : 'none';\n",
              "\n",
              "      buttonEl.onclick = () => {\n",
              "        google.colab.notebook.generateWithVariable('table');\n",
              "      }\n",
              "      })();\n",
              "    </script>\n",
              "  </div>\n",
              "\n",
              "    </div>\n",
              "  </div>\n"
            ],
            "application/vnd.google.colaboratory.intrinsic+json": {
              "type": "dataframe",
              "variable_name": "table",
              "summary": "{\n  \"name\": \"table\",\n  \"rows\": 864,\n  \"fields\": [\n    {\n      \"column\": \"Num Trees\",\n      \"properties\": {\n        \"dtype\": \"date\",\n        \"min\": 20,\n        \"max\": 100,\n        \"num_unique_values\": 3,\n        \"samples\": [\n          20,\n          50,\n          100\n        ],\n        \"semantic_type\": \"\",\n        \"description\": \"\"\n      }\n    },\n    {\n      \"column\": \"Learning Rate\",\n      \"properties\": {\n        \"dtype\": \"date\",\n        \"min\": 0.001,\n        \"max\": 0.1,\n        \"num_unique_values\": 3,\n        \"samples\": [\n          0.001,\n          0.01,\n          0.1\n        ],\n        \"semantic_type\": \"\",\n        \"description\": \"\"\n      }\n    },\n    {\n      \"column\": \"Max_depth\",\n      \"properties\": {\n        \"dtype\": \"date\",\n        \"min\": 3,\n        \"max\": 4,\n        \"num_unique_values\": 2,\n        \"samples\": [\n          4,\n          3\n        ],\n        \"semantic_type\": \"\",\n        \"description\": \"\"\n      }\n    },\n    {\n      \"column\": \"Reg Alpha\",\n      \"properties\": {\n        \"dtype\": \"date\",\n        \"min\": 0,\n        \"max\": 5,\n        \"num_unique_values\": 4,\n        \"samples\": [\n          0.1,\n          5\n        ],\n        \"semantic_type\": \"\",\n        \"description\": \"\"\n      }\n    },\n    {\n      \"column\": \"Reg Lambda\",\n      \"properties\": {\n        \"dtype\": \"date\",\n        \"min\": 0,\n        \"max\": 5,\n        \"num_unique_values\": 4,\n        \"samples\": [\n          0.1,\n          5\n        ],\n        \"semantic_type\": \"\",\n        \"description\": \"\"\n      }\n    },\n    {\n      \"column\": \"Weight\",\n      \"properties\": {\n        \"dtype\": \"date\",\n        \"min\": 1,\n        \"max\": 10,\n        \"num_unique_values\": 3,\n        \"samples\": [\n          1,\n          5\n        ],\n        \"semantic_type\": \"\",\n        \"description\": \"\"\n      }\n    },\n    {\n      \"column\": \"AUC Train\",\n      \"properties\": {\n        \"dtype\": \"date\",\n        \"min\": 0.8801520270270271,\n        \"max\": 1.0,\n        \"num_unique_values\": 334,\n        \"samples\": [\n          0.9493243243243243,\n          0.9855574324324324\n        ],\n        \"semantic_type\": \"\",\n        \"description\": \"\"\n      }\n    },\n    {\n      \"column\": \"AUC Test1\",\n      \"properties\": {\n        \"dtype\": \"date\",\n        \"min\": 0.36713286713286714,\n        \"max\": 0.5268065268065267,\n        \"num_unique_values\": 214,\n        \"samples\": [\n          0.48601398601398604,\n          0.45221445221445217\n        ],\n        \"semantic_type\": \"\",\n        \"description\": \"\"\n      }\n    },\n    {\n      \"column\": \"AUC Test2\",\n      \"properties\": {\n        \"dtype\": \"date\",\n        \"min\": 0.2455882352941176,\n        \"max\": 0.6955882352941176,\n        \"num_unique_values\": 225,\n        \"samples\": [\n          0.46764705882352936,\n          0.5294117647058824\n        ],\n        \"semantic_type\": \"\",\n        \"description\": \"\"\n      }\n    }\n  ]\n}"
            }
          },
          "metadata": {},
          "execution_count": 134
        }
      ]
    }
  ]
}